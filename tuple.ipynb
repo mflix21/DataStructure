{
 "cells": [
  {
   "cell_type": "markdown",
   "source": [
    "tuple starts:\r\n",
    "basic structure of tuple:\r\n",
    "01. tuple always use first braces\r\n",
    "02. we can not change the value of a tuple and\r\n",
    "this is the limitation of tuple\r\n",
    "03. tuple is not callable\r\n",
    "04. tuple is unmutable, we can not change \r\n",
    "the value of tuple by accessing it.\r\n",
    "05. it can take different type of data like int, str, float, boolean and so on"
   ],
   "metadata": {}
  },
  {
   "cell_type": "markdown",
   "source": [
    "Tuples:\r\n",
    "-- Tuples are used to store multiple items in a single variable.\r\n",
    "-- Tuple is one of 4 built-in data types in Python used to store \r\n",
    "   collections of data, the other 3 are List, Set, and Dictionary, \r\n",
    "   all with different qualities and usage.\r\n",
    "-- A tuple is a collection which is ordered and unchangeable.\r\n",
    "-- Tuples are written with round brackets."
   ],
   "metadata": {}
  },
  {
   "cell_type": "markdown",
   "source": [
    "Tuple Items:\r\n",
    "--- Tuple items are ordered, unchangeable, and allow duplicate values.\r\n",
    "-- Tuple items are indexed, the first item has index [0], the second \r\n",
    "   item has index [1] etc.\r\n",
    "\r\n",
    "Ordered:\r\n",
    "-- When we say that tuples are ordered, it means that the items have \r\n",
    "   a defined order, and that order will not change.\r\n",
    "\r\n",
    "Unchangeable:\r\n",
    "-- Tuples are unchangeable, meaning that we cannot change, add or remove\r\n",
    "   items after the tuple has been created.\r\n",
    "\r\n",
    "Allow Duplicates:\r\n",
    "-- Since tuples are indexed, they can have items with the same value:"
   ],
   "metadata": {}
  },
  {
   "cell_type": "code",
   "execution_count": null,
   "source": [
    "# tuple\r\n",
    "# showing type of tuple\r\n",
    "rolls = (1, 2, 3, 4, 5, 6, 7, 8, 9)\r\n",
    "type(rolls)"
   ],
   "outputs": [],
   "metadata": {}
  },
  {
   "cell_type": "markdown",
   "source": [
    "access tuple"
   ],
   "metadata": {}
  },
  {
   "cell_type": "code",
   "execution_count": null,
   "source": [
    "# access tuple\r\n",
    "rolls = (1, 2, 3, 4, 5, 6, 7, 8, 9)\r\n",
    "rolls[4]"
   ],
   "outputs": [],
   "metadata": {}
  },
  {
   "cell_type": "markdown",
   "source": [
    "update tuple"
   ],
   "metadata": {}
  },
  {
   "cell_type": "code",
   "execution_count": null,
   "source": [
    "# update tuple:\r\n",
    "rolls = (1, 2, 3, 4, 5, 6, 7, 8, 9)\r\n",
    "rolls[4] = 10\r\n",
    "# it will give error because tuple is unmutable. we can not update tuple value from outside by accessing its index\r\n"
   ],
   "outputs": [],
   "metadata": {}
  },
  {
   "cell_type": "code",
   "execution_count": null,
   "source": [
    "# tuple: it can take different data type\r\n",
    "# example :\r\n",
    "rolls = (1, 2, True, \"hello world\")\r\n",
    "rolls"
   ],
   "outputs": [],
   "metadata": {}
  },
  {
   "cell_type": "markdown",
   "source": [
    "note: tuple will never allow you to update or delete or remove for a specific index. \r\n",
    "It can remove the full tuple not a specific portion. tuple is kind of static.\r\n",
    "once we declared tuple we can not change or remove it."
   ],
   "metadata": {}
  },
  {
   "cell_type": "markdown",
   "source": [
    "tuple fuction:.........."
   ],
   "metadata": {}
  },
  {
   "cell_type": "code",
   "execution_count": null,
   "source": [
    "# tuple: here value return index number\r\n",
    "rolls = (1, 2, 3, 4, 5, 6, 7, 8, 9)\r\n",
    "rolls.index(5)"
   ],
   "outputs": [],
   "metadata": {}
  },
  {
   "cell_type": "code",
   "execution_count": null,
   "source": [
    "# tuple: here count total number of any value, here counting value of 4\r\n",
    "rolls = (1, 2, 3, 4, 4, 4, 5, 6, 7, 8, 9)\r\n",
    "rolls.count(4)"
   ],
   "outputs": [],
   "metadata": {}
  },
  {
   "cell_type": "code",
   "execution_count": null,
   "source": [
    "# Create Tuple With One Item:\r\n",
    "# To create a tuple with only one item, you have to add a comma after the item, otherwise Python will not recognize it as a tuple.\r\n",
    "# From Python's perspective, tuples are defined as objects with the data type 'tuple':\r\n",
    "\r\n",
    "# Example\r\n",
    "# One item tuple, remember the comma:\r\n",
    "\r\n",
    "thistuple = (\"apple\",)\r\n",
    "print(type(thistuple))\r\n",
    "\r\n",
    "#NOT a tuple\r\n",
    "thistuple = (\"apple\")\r\n",
    "print(type(thistuple))"
   ],
   "outputs": [],
   "metadata": {}
  },
  {
   "cell_type": "code",
   "execution_count": null,
   "source": [
    "# The tuple() Constructor:\r\n",
    "# It is also possible to use the tuple() constructor to make a tuple.\r\n",
    "\r\n",
    "# Example\r\n",
    "# Using the tuple() method to make a tuple:\r\n",
    "\r\n",
    "thistuple = tuple((\"apple\", \"banana\", \"cherry\")) # note the double round-brackets\r\n",
    "print(thistuple)"
   ],
   "outputs": [],
   "metadata": {}
  },
  {
   "cell_type": "markdown",
   "source": [
    "Python Collections (Arrays):\r\n",
    "-- There are four collection data types in the Python programming language:\r\n",
    "\r\n",
    "-- List is a collection which is ordered and changeable. Allows duplicate members.\r\n",
    "-- Tuple is a collection which is ordered and unchangeable. Allows duplicate members.\r\n",
    "-- Set is a collection which is unordered and unindexed. No duplicate members.\r\n",
    "-- Dictionary is a collection which is ordered* and changeable. No duplicate members.\r\n",
    "\r\n",
    "*As of Python version 3.7, dictionaries are ordered. In Python 3.6 and earlier, dictionaries are unordered.\r\n",
    "\r\n",
    "Note:\r\n",
    "When choosing a collection type, it is useful to understand the properties \r\n",
    "of that type. Choosing the right type for a particular data set could mean \r\n",
    "retention of meaning, and, it could mean an increase in efficiency or security."
   ],
   "metadata": {}
  },
  {
   "cell_type": "code",
   "execution_count": null,
   "source": [
    "# Access Tuple Items\r\n",
    "# You can access tuple items by referring to the index number, inside square brackets:\r\n",
    "thistuple = (\"apple\", \"banana\", \"cherry\")\r\n",
    "print(thistuple[1])"
   ],
   "outputs": [],
   "metadata": {}
  },
  {
   "cell_type": "code",
   "execution_count": null,
   "source": [
    "# Negative Indexing\r\n",
    "# Negative indexing means start from the end.\r\n",
    "# -1 refers to the last item, -2 refers to the second last item etc.\r\n",
    "# Print the last item of the tuple:\r\n",
    "\r\n",
    "thistuple = (\"apple\", \"banana\", \"cherry\")\r\n",
    "print(thistuple[-1])"
   ],
   "outputs": [],
   "metadata": {}
  },
  {
   "cell_type": "code",
   "execution_count": null,
   "source": [
    "# Range of Indexes:\r\n",
    "# You can specify a range of indexes by specifying where to start and where to end the range.\r\n",
    "# When specifying a range, the return value will be a new tuple with the specified items.\r\n",
    "# Example: Return the third, fourth, and fifth item:\r\n",
    "\r\n",
    "thistuple = (\"apple\", \"banana\", \"cherry\", \"orange\", \"kiwi\", \"melon\", \"mango\")\r\n",
    "print(thistuple[2:5])"
   ],
   "outputs": [],
   "metadata": {}
  },
  {
   "cell_type": "code",
   "execution_count": null,
   "source": [
    "# Example: This example returns the items from the beginning to, but NOT included, \"kiwi\":\r\n",
    "\r\n",
    "thistuple = (\"apple\", \"banana\", \"cherry\", \"orange\", \"kiwi\", \"melon\", \"mango\")\r\n",
    "print(thistuple[:4])"
   ],
   "outputs": [],
   "metadata": {}
  },
  {
   "cell_type": "code",
   "execution_count": null,
   "source": [
    "# Example: This example returns the items from \"cherry\" and to the end:\r\n",
    "\r\n",
    "thistuple = (\"apple\", \"banana\", \"cherry\", \"orange\", \"kiwi\", \"melon\", \"mango\")\r\n",
    "print(thistuple[2:])"
   ],
   "outputs": [],
   "metadata": {}
  },
  {
   "cell_type": "code",
   "execution_count": null,
   "source": [
    "# Range of Negative Indexes:\r\n",
    "# Specify negative indexes if you want to start the search from the end of the tuple:\r\n",
    "# Example: This example returns the items from index -4 (included) to index -1 (excluded)\r\n",
    "\r\n",
    "thistuple = (\"apple\", \"banana\", \"cherry\", \"orange\", \"kiwi\", \"melon\", \"mango\")\r\n",
    "print(thistuple[-4:-1])"
   ],
   "outputs": [],
   "metadata": {}
  },
  {
   "cell_type": "code",
   "execution_count": null,
   "source": [
    "# Check if Item Exists:\r\n",
    "# To determine if a specified item is present in a tuple use the 'in' keyword:\r\n",
    "# Example: Check if \"apple\" is present in the tuple:\r\n",
    "\r\n",
    "thistuple = (\"apple\", \"banana\", \"cherry\")\r\n",
    "if \"apple\" in thistuple:\r\n",
    "  print(\"Yes, 'apple' is in the fruits tuple\")"
   ],
   "outputs": [],
   "metadata": {}
  },
  {
   "cell_type": "markdown",
   "source": [
    "# Python - Update Tuples:\r\n",
    "# Tuples are unchangeable, meaning that you cannot \r\n",
    "# change, add, or remove items once the tuple is created.\r\n",
    "# But there are some workarounds."
   ],
   "metadata": {}
  },
  {
   "cell_type": "code",
   "execution_count": null,
   "source": [
    "# Change Tuple Values:\r\n",
    "# Once a tuple is created, you cannot change its values. \r\n",
    "# Tuples are unchangeable, or immutable as it also is called.\r\n",
    "# But there is a workaround. You can convert the tuple \r\n",
    "# into a list, change the list, and convert the list back into a tuple.\r\n",
    "# Example: Convert the tuple into a list to be able to change it:\r\n",
    "\r\n",
    "x = (\"apple\", \"banana\", \"cherry\")\r\n",
    "y = list(x)\r\n",
    "y[1] = \"kiwi\"\r\n",
    "x = tuple(y)\r\n",
    "\r\n",
    "print(x)\r\n",
    "print(type(x))"
   ],
   "outputs": [],
   "metadata": {}
  },
  {
   "cell_type": "code",
   "execution_count": null,
   "source": [
    "# Add Items:\r\n",
    "# Since tuples are immutable, they do not have a build-in append() method, \r\n",
    "# but there are other ways to add items to a tuple.\r\n",
    "# 1. Convert into a list: Just like the workaround for changing a tuple, \r\n",
    "# you can convert it into a list, add your item(s), and convert it back into a tuple.\r\n",
    "# Example: Convert the tuple into a list, add \"orange\", and convert it back into a tuple:\r\n",
    "\r\n",
    "thistuple = (\"apple\", \"banana\", \"cherry\")\r\n",
    "y = list(thistuple)\r\n",
    "y.append(\"orange\")\r\n",
    "thistuple = tuple(y)\r\n",
    "\r\n",
    "print(thistuple)\r\n",
    "print(type(thistuple))"
   ],
   "outputs": [],
   "metadata": {}
  },
  {
   "cell_type": "code",
   "execution_count": null,
   "source": [
    "# 2. Add tuple to a tuple. You are allowed to add tuples to tuples, \r\n",
    "# so if you want to add one item, (or many), create a new tuple with \r\n",
    "# the item(s), and add it to the existing tuple:\r\n",
    "# Example: Create a new tuple with the value \"orange\", and add that tuple:\r\n",
    "\r\n",
    "thistuple = (\"apple\", \"banana\", \"cherry\")\r\n",
    "y = (\"orange\",)\r\n",
    "thistuple += y\r\n",
    "\r\n",
    "print(thistuple)\r\n",
    "\r\n",
    "# Note: When creating a tuple with only one item, remember to include a comma \r\n",
    "# after the item, otherwise it will not be identified as a tuple."
   ],
   "outputs": [],
   "metadata": {}
  },
  {
   "cell_type": "code",
   "execution_count": null,
   "source": [
    "# Remove Items:\r\n",
    "# Note: You cannot remove items in a tuple.\r\n",
    "# Tuples are unchangeable, so you cannot remove items from it, \r\n",
    "# but you can use the same workaround as we used for changing and adding tuple items:\r\n",
    "# Example: Convert the tuple into a list, remove \"apple\", and convert it back into a tuple:\r\n",
    "\r\n",
    "thistuple = (\"apple\", \"banana\", \"cherry\")\r\n",
    "y = list(thistuple)\r\n",
    "y.remove(\"apple\")\r\n",
    "thistuple = tuple(y)\r\n",
    "\r\n",
    "print(thistuple)\r\n",
    "print(type(thistuple))"
   ],
   "outputs": [],
   "metadata": {}
  },
  {
   "cell_type": "code",
   "execution_count": null,
   "source": [
    "# you can delete the tuple completely:\r\n",
    "# Example: The del keyword can delete the tuple completely:\r\n",
    "\r\n",
    "thistuple = (\"apple\", \"banana\", \"cherry\")\r\n",
    "del thistuple\r\n",
    "print(thistuple) #this will raise an error because the tuple no longer exists"
   ],
   "outputs": [],
   "metadata": {}
  },
  {
   "cell_type": "code",
   "execution_count": 22,
   "source": [
    "# Python - Unpack Tuples\r\n",
    "# Unpacking a Tuple\r\n",
    "# When we create a tuple, we normally assign values to it. This is called \"packing\" a tuple:\r\n",
    "# Example: Packing a tuple:\r\n",
    "\r\n",
    "fruits = (\"apple\", \"banana\", \"cherry\")"
   ],
   "outputs": [],
   "metadata": {}
  },
  {
   "cell_type": "code",
   "execution_count": 23,
   "source": [
    "# But, in Python, we are also allowed to extract the values \r\n",
    "# back into variables. This is called \"unpacking\":\r\n",
    "# Example: Unpacking a tuple:\r\n",
    "\r\n",
    "fruits = (\"apple\", \"banana\", \"cherry\")      # Packing\r\n",
    "\r\n",
    "(green, yellow, red) = fruits               # Unpacking\r\n",
    "print(green)        # green=apple\r\n",
    "print(yellow)       # yellow=banana\r\n",
    "print(red)          # red=cherry\r\n",
    "\r\n",
    "# Note: The number of variables must match the number of values \r\n",
    "# in the tuple, if not, you must use an asterisk to collect \r\n",
    "# the remaining values as a list."
   ],
   "outputs": [
    {
     "output_type": "stream",
     "name": "stdout",
     "text": [
      "apple\n",
      "banana\n",
      "cherry\n"
     ]
    }
   ],
   "metadata": {}
  },
  {
   "cell_type": "code",
   "execution_count": 24,
   "source": [
    "# Using Asterisk*\r\n",
    "# If the number of variables is less than the number of values, \r\n",
    "# you can add an * to the variable name and the values will be \r\n",
    "# assigned to the variable as a list:\r\n",
    "# Example: Assign the rest of the values as a list called \"red\":\r\n",
    "\r\n",
    "fruits = (\"apple\", \"banana\", \"cherry\", \"strawberry\", \"raspberry\")\r\n",
    "\r\n",
    "(green, yellow, *red) = fruits\r\n",
    "\r\n",
    "print(green)\r\n",
    "print(yellow)\r\n",
    "print(red)"
   ],
   "outputs": [
    {
     "output_type": "stream",
     "name": "stdout",
     "text": [
      "apple\n",
      "banana\n",
      "['cherry', 'strawberry', 'raspberry']\n"
     ]
    }
   ],
   "metadata": {}
  },
  {
   "cell_type": "code",
   "execution_count": 25,
   "source": [
    "# If the asterisk is added to another variable name than the last, \r\n",
    "# Python will assign values to the variable until the number of values \r\n",
    "# left matches the number of variables left.\r\n",
    "# Example: Add a list of values the \"tropic\" variable:\r\n",
    "\r\n",
    "fruits = (\"apple\", \"mango\", \"papaya\", \"pineapple\", \"cherry\")\r\n",
    "\r\n",
    "(green, *tropic, red) = fruits\r\n",
    "\r\n",
    "print(green)\r\n",
    "print(tropic)\r\n",
    "print(red)"
   ],
   "outputs": [
    {
     "output_type": "stream",
     "name": "stdout",
     "text": [
      "apple\n",
      "['mango', 'papaya', 'pineapple']\n",
      "cherry\n"
     ]
    }
   ],
   "metadata": {}
  },
  {
   "cell_type": "code",
   "execution_count": 26,
   "source": [
    "# Python - Loop Tuples:\r\n",
    "# Loop Through a Tuple\r\n",
    "# You can loop through the tuple items by using a for loop.\r\n",
    "# Example: Iterate through the items and print the values:\r\n",
    "\r\n",
    "thistuple = (\"apple\", \"banana\", \"cherry\")\r\n",
    "for x in thistuple:\r\n",
    "  print(x)\r\n"
   ],
   "outputs": [
    {
     "output_type": "stream",
     "name": "stdout",
     "text": [
      "apple\n",
      "banana\n",
      "cherry\n"
     ]
    }
   ],
   "metadata": {}
  },
  {
   "cell_type": "code",
   "execution_count": 27,
   "source": [
    "# Loop Through the Index Numbers\r\n",
    "# You can also loop through the tuple items by referring to their index number.\r\n",
    "# Use the range() and len() functions to create a suitable iterable.\r\n",
    "# Example: Print all items by referring to their index number:\r\n",
    "\r\n",
    "thistuple = (\"apple\", \"banana\", \"cherry\")\r\n",
    "for i in range(len(thistuple)):\r\n",
    "  print(thistuple[i])"
   ],
   "outputs": [
    {
     "output_type": "stream",
     "name": "stdout",
     "text": [
      "apple\n",
      "banana\n",
      "cherry\n"
     ]
    }
   ],
   "metadata": {}
  },
  {
   "cell_type": "code",
   "execution_count": 28,
   "source": [
    "# Using a While Loop\r\n",
    "# You can loop through the list items by using a while loop.\r\n",
    "# Use the len() function to determine the length of the tuple, \r\n",
    "# then start at 0 and loop your way through the tuple items by\r\n",
    "# refering to their indexes.\r\n",
    "# Remember to increase the index by 1 after each iteration.\r\n",
    "# Example: Print all items, using a while loop to go through all the index numbers:\r\n",
    "\r\n",
    "thistuple = (\"apple\", \"banana\", \"cherry\")\r\n",
    "i = 0\r\n",
    "while i < len(thistuple):\r\n",
    "  print(thistuple[i])\r\n",
    "  i = i + 1"
   ],
   "outputs": [
    {
     "output_type": "stream",
     "name": "stdout",
     "text": [
      "apple\n",
      "banana\n",
      "cherry\n"
     ]
    }
   ],
   "metadata": {}
  },
  {
   "cell_type": "code",
   "execution_count": 29,
   "source": [
    "# Python - Join Tuples\r\n",
    "# Join Two Tuples\r\n",
    "# To join two or more tuples you can use the + operator:\r\n",
    "# Example: Join two tuples:\r\n",
    "\r\n",
    "tuple1 = (\"a\", \"b\" , \"c\")\r\n",
    "tuple2 = (1, 2, 3)\r\n",
    "\r\n",
    "tuple3 = tuple1 + tuple2\r\n",
    "print(tuple3)"
   ],
   "outputs": [
    {
     "output_type": "stream",
     "name": "stdout",
     "text": [
      "('a', 'b', 'c', 1, 2, 3)\n"
     ]
    }
   ],
   "metadata": {}
  },
  {
   "cell_type": "code",
   "execution_count": 30,
   "source": [
    "# Multiply Tuples\r\n",
    "# If you want to multiply the content of a tuple a given number of times, \r\n",
    "# you can use the * operator:\r\n",
    "# Example: Multiply the fruits tuple by 2:\r\n",
    "\r\n",
    "fruits = (\"apple\", \"banana\", \"cherry\")\r\n",
    "mytuple = fruits * 2\r\n",
    "\r\n",
    "print(mytuple)"
   ],
   "outputs": [
    {
     "output_type": "stream",
     "name": "stdout",
     "text": [
      "('apple', 'banana', 'cherry', 'apple', 'banana', 'cherry')\n"
     ]
    }
   ],
   "metadata": {}
  },
  {
   "cell_type": "code",
   "execution_count": 34,
   "source": [
    "# Python - Tuple Methods\r\n",
    "# Tuple Methods\r\n",
    "# Python has two built-in methods that you can use on tuples.\r\n",
    "\r\n",
    "# Method\tDescription\r\n",
    "# count()\tReturns the number of times a specified value occurs in a tuple\r\n",
    "# index()\tSearches the tuple for a specified value and returns the position of where it was found\r\n",
    "\r\n",
    "fruits = (\"apple\", \"banana\", \"cherry\", \"apple\")\r\n",
    "\r\n",
    "fruits.count(\"apple\")\r\n",
    "fruits.index(\"cherry\")"
   ],
   "outputs": [
    {
     "output_type": "execute_result",
     "data": {
      "text/plain": [
       "2"
      ]
     },
     "metadata": {},
     "execution_count": 34
    }
   ],
   "metadata": {}
  }
 ],
 "metadata": {
  "orig_nbformat": 4,
  "language_info": {
   "name": "python",
   "version": "3.9.6",
   "mimetype": "text/x-python",
   "codemirror_mode": {
    "name": "ipython",
    "version": 3
   },
   "pygments_lexer": "ipython3",
   "nbconvert_exporter": "python",
   "file_extension": ".py"
  },
  "kernelspec": {
   "name": "python3",
   "display_name": "Python 3.9.6 64-bit"
  },
  "interpreter": {
   "hash": "c819db0b61094783b121348d134d41c4e0450ebc7e72307b330662436e6d9290"
  }
 },
 "nbformat": 4,
 "nbformat_minor": 2
}