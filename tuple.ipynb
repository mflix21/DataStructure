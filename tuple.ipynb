{
 "cells": [
  {
   "cell_type": "markdown",
   "metadata": {},
   "source": [
    "tuple starts:\n",
    "basic structure of tuple:\n",
    "01. tuple always use first braces\n",
    "02. we can not change the value of a tuple and\n",
    "this is the limitation of tuple\n",
    "03. tuple is not callable\n",
    "04. tuple is unmutable, we can not change \n",
    "the value of tuple by accessing it.\n",
    "05. it can take different type of data like int, str, float, boolean and so on"
   ]
  },
  {
   "cell_type": "markdown",
   "metadata": {},
   "source": [
    "Tuples:\n",
    "-- Tuples are used to store multiple items in a single variable.\n",
    "-- Tuple is one of 4 built-in data types in Python used to store \n",
    "   collections of data, the other 3 are List, Set, and Dictionary, \n",
    "   all with different qualities and usage.\n",
    "-- A tuple is a collection which is ordered and unchangeable.\n",
    "-- Tuples are written with round brackets."
   ]
  },
  {
   "cell_type": "markdown",
   "metadata": {},
   "source": [
    "Tuple Items:\n",
    "--- Tuple items are ordered, unchangeable, and allow duplicate values.\n",
    "-- Tuple items are indexed, the first item has index [0], the second \n",
    "   item has index [1] etc.\n",
    "\n",
    "Ordered:\n",
    "-- When we say that tuples are ordered, it means that the items have \n",
    "   a defined order, and that order will not change.\n",
    "\n",
    "Unchangeable:\n",
    "-- Tuples are unchangeable, meaning that we cannot change, add or remove\n",
    "   items after the tuple has been created.\n",
    "\n",
    "Allow Duplicates:\n",
    "-- Since tuples are indexed, they can have items with the same value:"
   ]
  },
  {
   "cell_type": "code",
   "execution_count": null,
   "metadata": {},
   "outputs": [],
   "source": [
    "# tuple\n",
    "# showing type of tuple\n",
    "rolls = (1, 2, 3, 4, 5, 6, 7, 8, 9)\n",
    "type(rolls)"
   ]
  },
  {
   "cell_type": "markdown",
   "metadata": {},
   "source": [
    "access tuple"
   ]
  },
  {
   "cell_type": "code",
   "execution_count": null,
   "metadata": {},
   "outputs": [],
   "source": [
    "# access tuple\n",
    "rolls = (1, 2, 3, 4, 5, 6, 7, 8, 9)\n",
    "rolls[4]"
   ]
  },
  {
   "cell_type": "markdown",
   "metadata": {},
   "source": [
    "update tuple"
   ]
  },
  {
   "cell_type": "code",
   "execution_count": null,
   "metadata": {},
   "outputs": [],
   "source": [
    "# update tuple:\n",
    "rolls = (1, 2, 3, 4, 5, 6, 7, 8, 9)\n",
    "rolls[4] = 10\n",
    "# it will give error because tuple is unmutable. we can not update tuple value from outside by accessing its index\n"
   ]
  },
  {
   "cell_type": "code",
   "execution_count": null,
   "metadata": {},
   "outputs": [],
   "source": [
    "# tuple: it can take different data type\n",
    "# example :\n",
    "rolls = (1, 2, True, \"hello world\")\n",
    "rolls"
   ]
  },
  {
   "cell_type": "markdown",
   "metadata": {},
   "source": [
    "note: tuple will never allow you to update or delete or remove for a specific index. \n",
    "It can remove the full tuple not a specific portion. tuple is kind of static.\n",
    "once we declared tuple we can not change or remove it."
   ]
  },
  {
   "cell_type": "markdown",
   "metadata": {},
   "source": [
    "tuple fuction:.........."
   ]
  },
  {
   "cell_type": "code",
   "execution_count": null,
   "metadata": {},
   "outputs": [],
   "source": [
    "# tuple: here value return index number\n",
    "rolls = (1, 2, 3, 4, 5, 6, 7, 8, 9)\n",
    "rolls.index(5)"
   ]
  },
  {
   "cell_type": "code",
   "execution_count": null,
   "metadata": {},
   "outputs": [],
   "source": [
    "# tuple: here count total number of any value, here counting value of 4\n",
    "rolls = (1, 2, 3, 4, 4, 4, 5, 6, 7, 8, 9)\n",
    "rolls.count(4)"
   ]
  },
  {
   "cell_type": "code",
   "execution_count": null,
   "metadata": {},
   "outputs": [],
   "source": [
    "# Create Tuple With One Item:\n",
    "# To create a tuple with only one item, you have to add a comma after the item, otherwise Python will not recognize it as a tuple.\n",
    "# From Python's perspective, tuples are defined as objects with the data type 'tuple':\n",
    "\n",
    "# Example\n",
    "# One item tuple, remember the comma:\n",
    "\n",
    "thistuple = (\"apple\",)\n",
    "print(type(thistuple))\n",
    "\n",
    "#NOT a tuple\n",
    "thistuple = (\"apple\")\n",
    "print(type(thistuple))"
   ]
  },
  {
   "cell_type": "code",
   "execution_count": null,
   "metadata": {},
   "outputs": [],
   "source": [
    "# The tuple() Constructor:\n",
    "# It is also possible to use the tuple() constructor to make a tuple.\n",
    "\n",
    "# Example\n",
    "# Using the tuple() method to make a tuple:\n",
    "\n",
    "thistuple = tuple((\"apple\", \"banana\", \"cherry\")) # note the double round-brackets\n",
    "print(thistuple)"
   ]
  },
  {
   "cell_type": "markdown",
   "metadata": {},
   "source": [
    "Python Collections (Arrays):\n",
    "-- There are four collection data types in the Python programming language:\n",
    "\n",
    "-- List is a collection which is ordered and changeable. Allows duplicate members.\n",
    "-- Tuple is a collection which is ordered and unchangeable. Allows duplicate members.\n",
    "-- Set is a collection which is unordered and unindexed. No duplicate members.\n",
    "-- Dictionary is a collection which is ordered* and changeable. No duplicate members.\n",
    "\n",
    "*As of Python version 3.7, dictionaries are ordered. In Python 3.6 and earlier, dictionaries are unordered.\n",
    "\n",
    "Note:\n",
    "When choosing a collection type, it is useful to understand the properties \n",
    "of that type. Choosing the right type for a particular data set could mean \n",
    "retention of meaning, and, it could mean an increase in efficiency or security."
   ]
  },
  {
   "cell_type": "code",
   "execution_count": null,
   "metadata": {},
   "outputs": [],
   "source": [
    "# Access Tuple Items\n",
    "# You can access tuple items by referring to the index number, inside square brackets:\n",
    "thistuple = (\"apple\", \"banana\", \"cherry\")\n",
    "print(thistuple[1])"
   ]
  },
  {
   "cell_type": "code",
   "execution_count": null,
   "metadata": {},
   "outputs": [],
   "source": [
    "# Negative Indexing\n",
    "# Negative indexing means start from the end.\n",
    "# -1 refers to the last item, -2 refers to the second last item etc.\n",
    "# Print the last item of the tuple:\n",
    "\n",
    "thistuple = (\"apple\", \"banana\", \"cherry\")\n",
    "print(thistuple[-1])"
   ]
  },
  {
   "cell_type": "code",
   "execution_count": null,
   "metadata": {},
   "outputs": [],
   "source": [
    "# Range of Indexes:\n",
    "# You can specify a range of indexes by specifying where to start and where to end the range.\n",
    "# When specifying a range, the return value will be a new tuple with the specified items.\n",
    "# Example: Return the third, fourth, and fifth item:\n",
    "\n",
    "thistuple = (\"apple\", \"banana\", \"cherry\", \"orange\", \"kiwi\", \"melon\", \"mango\")\n",
    "print(thistuple[2:5])"
   ]
  },
  {
   "cell_type": "code",
   "execution_count": null,
   "metadata": {},
   "outputs": [],
   "source": [
    "# Example: This example returns the items from the beginning to, but NOT included, \"kiwi\":\n",
    "\n",
    "thistuple = (\"apple\", \"banana\", \"cherry\", \"orange\", \"kiwi\", \"melon\", \"mango\")\n",
    "print(thistuple[:4])"
   ]
  },
  {
   "cell_type": "code",
   "execution_count": null,
   "metadata": {},
   "outputs": [],
   "source": [
    "# Example: This example returns the items from \"cherry\" and to the end:\n",
    "\n",
    "thistuple = (\"apple\", \"banana\", \"cherry\", \"orange\", \"kiwi\", \"melon\", \"mango\")\n",
    "print(thistuple[2:])"
   ]
  },
  {
   "cell_type": "code",
   "execution_count": null,
   "metadata": {},
   "outputs": [],
   "source": [
    "# Range of Negative Indexes:\n",
    "# Specify negative indexes if you want to start the search from the end of the tuple:\n",
    "# Example: This example returns the items from index -4 (included) to index -1 (excluded)\n",
    "\n",
    "thistuple = (\"apple\", \"banana\", \"cherry\", \"orange\", \"kiwi\", \"melon\", \"mango\")\n",
    "print(thistuple[-4:-1])"
   ]
  },
  {
   "cell_type": "code",
   "execution_count": null,
   "metadata": {},
   "outputs": [],
   "source": [
    "# Check if Item Exists:\n",
    "# To determine if a specified item is present in a tuple use the 'in' keyword:\n",
    "# Example: Check if \"apple\" is present in the tuple:\n",
    "\n",
    "thistuple = (\"apple\", \"banana\", \"cherry\")\n",
    "if \"apple\" in thistuple:\n",
    "  print(\"Yes, 'apple' is in the fruits tuple\")"
   ]
  },
  {
   "cell_type": "markdown",
   "metadata": {},
   "source": [
    "# Python - Update Tuples:\n",
    "# Tuples are unchangeable, meaning that you cannot \n",
    "# change, add, or remove items once the tuple is created.\n",
    "# But there are some workarounds."
   ]
  },
  {
   "cell_type": "code",
   "execution_count": null,
   "metadata": {},
   "outputs": [],
   "source": [
    "# Change Tuple Values:\n",
    "# Once a tuple is created, you cannot change its values. \n",
    "# Tuples are unchangeable, or immutable as it also is called.\n",
    "# But there is a workaround. You can convert the tuple \n",
    "# into a list, change the list, and convert the list back into a tuple.\n",
    "# Example: Convert the tuple into a list to be able to change it:\n",
    "\n",
    "x = (\"apple\", \"banana\", \"cherry\")\n",
    "y = list(x)\n",
    "y[1] = \"kiwi\"\n",
    "x = tuple(y)\n",
    "\n",
    "print(x)\n",
    "print(type(x))"
   ]
  },
  {
   "cell_type": "code",
   "execution_count": null,
   "metadata": {},
   "outputs": [],
   "source": [
    "# Add Items:\n",
    "# Since tuples are immutable, they do not have a build-in append() method, \n",
    "# but there are other ways to add items to a tuple.\n",
    "# 1. Convert into a list: Just like the workaround for changing a tuple, \n",
    "# you can convert it into a list, add your item(s), and convert it back into a tuple.\n",
    "# Example: Convert the tuple into a list, add \"orange\", and convert it back into a tuple:\n",
    "\n",
    "thistuple = (\"apple\", \"banana\", \"cherry\")\n",
    "y = list(thistuple)\n",
    "y.append(\"orange\")\n",
    "thistuple = tuple(y)\n",
    "\n",
    "print(thistuple)\n",
    "print(type(thistuple))"
   ]
  },
  {
   "cell_type": "code",
   "execution_count": null,
   "metadata": {},
   "outputs": [],
   "source": [
    "# 2. Add tuple to a tuple. You are allowed to add tuples to tuples, \n",
    "# so if you want to add one item, (or many), create a new tuple with \n",
    "# the item(s), and add it to the existing tuple:\n",
    "# Example: Create a new tuple with the value \"orange\", and add that tuple:\n",
    "\n",
    "thistuple = (\"apple\", \"banana\", \"cherry\")\n",
    "y = (\"orange\",)\n",
    "thistuple += y\n",
    "\n",
    "print(thistuple)\n",
    "\n",
    "# Note: When creating a tuple with only one item, remember to include a comma \n",
    "# after the item, otherwise it will not be identified as a tuple."
   ]
  },
  {
   "cell_type": "code",
   "execution_count": null,
   "metadata": {},
   "outputs": [],
   "source": [
    "# Remove Items:\n",
    "# Note: You cannot remove items in a tuple.\n",
    "# Tuples are unchangeable, so you cannot remove items from it, \n",
    "# but you can use the same workaround as we used for changing and adding tuple items:\n",
    "# Example: Convert the tuple into a list, remove \"apple\", and convert it back into a tuple:\n",
    "\n",
    "thistuple = (\"apple\", \"banana\", \"cherry\")\n",
    "y = list(thistuple)\n",
    "y.remove(\"apple\")\n",
    "thistuple = tuple(y)\n",
    "\n",
    "print(thistuple)\n",
    "print(type(thistuple))"
   ]
  },
  {
   "cell_type": "code",
   "execution_count": null,
   "metadata": {},
   "outputs": [],
   "source": [
    "# you can delete the tuple completely:\n",
    "# Example: The del keyword can delete the tuple completely:\n",
    "\n",
    "thistuple = (\"apple\", \"banana\", \"cherry\")\n",
    "del thistuple\n",
    "print(thistuple) #this will raise an error because the tuple no longer exists"
   ]
  },
  {
   "cell_type": "code",
   "execution_count": null,
   "metadata": {},
   "outputs": [],
   "source": [
    "# Python - Unpack Tuples\n",
    "# Unpacking a Tuple\n",
    "# When we create a tuple, we normally assign values to it. This is called \"packing\" a tuple:\n",
    "# Example: Packing a tuple:\n",
    "\n",
    "fruits = (\"apple\", \"banana\", \"cherry\")"
   ]
  },
  {
   "cell_type": "code",
   "execution_count": null,
   "metadata": {},
   "outputs": [],
   "source": [
    "# But, in Python, we are also allowed to extract the values \n",
    "# back into variables. This is called \"unpacking\":\n",
    "# Example: Unpacking a tuple:\n",
    "\n",
    "fruits = (\"apple\", \"banana\", \"cherry\")      # Packing\n",
    "\n",
    "(green, yellow, red) = fruits               # Unpacking\n",
    "print(green)        # green=apple\n",
    "print(yellow)       # yellow=banana\n",
    "print(red)          # red=cherry\n",
    "\n",
    "# Note: The number of variables must match the number of values \n",
    "# in the tuple, if not, you must use an asterisk to collect \n",
    "# the remaining values as a list."
   ]
  },
  {
   "cell_type": "code",
   "execution_count": null,
   "metadata": {},
   "outputs": [],
   "source": [
    "# Using Asterisk*\n",
    "# If the number of variables is less than the number of values, \n",
    "# you can add an * to the variable name and the values will be \n",
    "# assigned to the variable as a list:\n",
    "# Example: Assign the rest of the values as a list called \"red\":\n",
    "\n",
    "fruits = (\"apple\", \"banana\", \"cherry\", \"strawberry\", \"raspberry\")\n",
    "\n",
    "(green, yellow, *red) = fruits\n",
    "\n",
    "print(green)\n",
    "print(yellow)\n",
    "print(red)"
   ]
  },
  {
   "cell_type": "code",
   "execution_count": null,
   "metadata": {},
   "outputs": [],
   "source": [
    "# If the asterisk is added to another variable name than the last, \n",
    "# Python will assign values to the variable until the number of values \n",
    "# left matches the number of variables left.\n",
    "# Example: Add a list of values the \"tropic\" variable:\n",
    "\n",
    "fruits = (\"apple\", \"mango\", \"papaya\", \"pineapple\", \"cherry\")\n",
    "\n",
    "(green, *tropic, red) = fruits\n",
    "\n",
    "print(green)\n",
    "print(tropic)\n",
    "print(red)"
   ]
  },
  {
   "cell_type": "code",
   "execution_count": null,
   "metadata": {},
   "outputs": [],
   "source": [
    "# Python - Loop Tuples:\n",
    "# Loop Through a Tuple\n",
    "# You can loop through the tuple items by using a for loop.\n",
    "# Example: Iterate through the items and print the values:\n",
    "\n",
    "thistuple = (\"apple\", \"banana\", \"cherry\")\n",
    "for x in thistuple:\n",
    "  print(x)\n"
   ]
  },
  {
   "cell_type": "code",
   "execution_count": null,
   "metadata": {},
   "outputs": [],
   "source": [
    "# Loop Through the Index Numbers\n",
    "# You can also loop through the tuple items by referring to their index number.\n",
    "# Use the range() and len() functions to create a suitable iterable.\n",
    "# Example: Print all items by referring to their index number:\n",
    "\n",
    "thistuple = (\"apple\", \"banana\", \"cherry\")\n",
    "for i in range(len(thistuple)):\n",
    "  print(thistuple[i])"
   ]
  },
  {
   "cell_type": "code",
   "execution_count": null,
   "metadata": {},
   "outputs": [],
   "source": [
    "# Using a While Loop\n",
    "# You can loop through the list items by using a while loop.\n",
    "# Use the len() function to determine the length of the tuple, \n",
    "# then start at 0 and loop your way through the tuple items by\n",
    "# refering to their indexes.\n",
    "# Remember to increase the index by 1 after each iteration.\n",
    "# Example: Print all items, using a while loop to go through all the index numbers:\n",
    "\n",
    "thistuple = (\"apple\", \"banana\", \"cherry\")\n",
    "i = 0\n",
    "while i < len(thistuple):\n",
    "  print(thistuple[i])\n",
    "  i = i + 1"
   ]
  },
  {
   "cell_type": "code",
   "execution_count": null,
   "metadata": {},
   "outputs": [],
   "source": [
    "# Python - Join Tuples\n",
    "# Join Two Tuples\n",
    "# To join two or more tuples you can use the + operator:\n",
    "# Example: Join two tuples:\n",
    "\n",
    "tuple1 = (\"a\", \"b\" , \"c\")\n",
    "tuple2 = (1, 2, 3)\n",
    "\n",
    "tuple3 = tuple1 + tuple2\n",
    "print(tuple3)"
   ]
  },
  {
   "cell_type": "code",
   "execution_count": null,
   "metadata": {},
   "outputs": [],
   "source": [
    "# Multiply Tuples\n",
    "# If you want to multiply the content of a tuple a given number of times, \n",
    "# you can use the * operator:\n",
    "# Example: Multiply the fruits tuple by 2:\n",
    "\n",
    "fruits = (\"apple\", \"banana\", \"cherry\")\n",
    "mytuple = fruits * 2\n",
    "\n",
    "print(mytuple)"
   ]
  },
  {
   "cell_type": "code",
   "execution_count": null,
   "metadata": {},
   "outputs": [],
   "source": [
    "# Python - Tuple Methods\n",
    "# Tuple Methods\n",
    "# Python has two built-in methods that you can use on tuples.\n",
    "\n",
    "# Method\tDescription\n",
    "# count()\tReturns the number of times a specified value occurs in a tuple\n",
    "# index()\tSearches the tuple for a specified value and returns the position of where it was found\n",
    "\n",
    "fruits = (\"apple\", \"banana\", \"cherry\", \"apple\")\n",
    "\n",
    "fruits.count(\"apple\")\n",
    "fruits.index(\"cherry\")"
   ]
  }
 ],
 "metadata": {
  "interpreter": {
   "hash": "c819db0b61094783b121348d134d41c4e0450ebc7e72307b330662436e6d9290"
  },
  "kernelspec": {
   "display_name": "Python 3.9.6 64-bit",
   "name": "python3"
  },
  "language_info": {
   "codemirror_mode": {
    "name": "ipython",
    "version": 3
   },
   "file_extension": ".py",
   "mimetype": "text/x-python",
   "name": "python",
   "nbconvert_exporter": "python",
   "pygments_lexer": "ipython3",
   "version": "3.9.6"
  },
  "orig_nbformat": 4
 },
 "nbformat": 4,
 "nbformat_minor": 2
}
