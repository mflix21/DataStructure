{
 "cells": [
  {
   "cell_type": "markdown",
   "metadata": {},
   "source": [
    "Data Structure: There are 4 types of data structure used in python such as\n",
    "(i) list (ii) tuple (iii) set (iv) dictionary\n",
    "\n"
   ]
  },
  {
   "cell_type": "code",
   "execution_count": null,
   "metadata": {},
   "outputs": [],
   "source": [
    "# (i) list : different examples of list are shown below:\n",
    "# basic structure of list:\n",
    "# third braces is used for defining list\n",
    "# list always pop the value from the last\n",
    "rolls = [1, 2, 3, 4, 5, 6, 7, 8, 9]\n",
    "rolls\n"
   ]
  },
  {
   "cell_type": "markdown",
   "metadata": {},
   "source": [
    "how to access list"
   ]
  },
  {
   "cell_type": "code",
   "execution_count": null,
   "metadata": {},
   "outputs": [],
   "source": [
    "# access values of list:\n",
    "rolls = [1, 2, 3, 4, 5, 6, 7, 8, 9]\n",
    "rolls[3]\n"
   ]
  },
  {
   "cell_type": "code",
   "execution_count": null,
   "metadata": {},
   "outputs": [],
   "source": [
    "# access values of list: access the last element of this list\n",
    "rolls = [1, 2, 3, 4, 5, 6, 7, 8, 9]\n",
    "index = (len(rolls) - 1)\n",
    "rolls[index]\n"
   ]
  },
  {
   "cell_type": "code",
   "execution_count": null,
   "metadata": {},
   "outputs": [],
   "source": [
    "# access values of list: access the last element of this list\n",
    "rolls = [1, 2, 3, 4, 5, 6, 7, 8, 9]\n",
    "rolls[-1]"
   ]
  },
  {
   "cell_type": "code",
   "execution_count": null,
   "metadata": {},
   "outputs": [],
   "source": [
    "# access values of  a list from end to start values\n",
    "rolls = [1, 2, 3, 4, 5, 6, 7, 8, 9]\n",
    "rolls[-3]"
   ]
  },
  {
   "cell_type": "markdown",
   "metadata": {},
   "source": [
    "list update"
   ]
  },
  {
   "cell_type": "code",
   "execution_count": null,
   "metadata": {},
   "outputs": [],
   "source": [
    "# update list: update value of a list\n",
    "rolls = [1, 2, 3, 4, 5, 6, 7, 8, 9]\n",
    "rolls[3] = 10\n",
    "rolls"
   ]
  },
  {
   "cell_type": "markdown",
   "metadata": {},
   "source": [
    "list slicing"
   ]
  },
  {
   "cell_type": "code",
   "execution_count": null,
   "metadata": {},
   "outputs": [],
   "source": [
    "# slice of a list:\n",
    "rolls = [1, 2, 3, 4, 5, 6, 7, 8, 9]\n",
    "rolls[1:5]\n"
   ]
  },
  {
   "cell_type": "code",
   "execution_count": null,
   "metadata": {},
   "outputs": [],
   "source": [
    "# slice of a list: another example of slice of a list\n",
    "# we did not give any start index but by default it takes 0 index\n",
    "rolls = [1, 2, 3, 4, 5, 6, 7, 8, 9]\n",
    "rolls[:5]"
   ]
  },
  {
   "cell_type": "code",
   "execution_count": null,
   "metadata": {},
   "outputs": [],
   "source": [
    "# slice of a list: another example of slice of a list\n",
    "# we did not give start index  and end index but by default it prints whole value of the list\n",
    "rolls = [1, 2, 3, 4, 5, 6, 7, 8, 9]\n",
    "rolls[:]"
   ]
  },
  {
   "cell_type": "code",
   "execution_count": null,
   "metadata": {},
   "outputs": [],
   "source": [
    "# slice of a list: another example of slice of a list\n",
    "# we did not give end index but by default it prints from start index to last value of the list\n",
    "rolls = [1, 2, 3, 4, 5, 6, 7, 8, 9]\n",
    "rolls[2:]"
   ]
  },
  {
   "cell_type": "code",
   "execution_count": null,
   "metadata": {},
   "outputs": [],
   "source": [
    "# slice of a list: another example of slice of a list by using list[start_index:end_index:step]\n",
    "# here are no start_index and end_index. It has only step, it prints just after adding 2\n",
    "rolls = [1, 2, 3, 4, 5, 6, 7, 8, 9]\n",
    "rolls[::2]"
   ]
  },
  {
   "cell_type": "code",
   "execution_count": null,
   "metadata": {},
   "outputs": [],
   "source": [
    "# slice of a list: another example of slice of a list byusing list[start_index:end_index:step]\n",
    "# here is no end_index. It has only start_index and step, it starts prints from start_index to last by stepping 2\n",
    "rolls = [1, 2, 3, 4, 5, 6, 7, 8, 9]\n",
    "rolls[3::2]"
   ]
  },
  {
   "cell_type": "code",
   "execution_count": null,
   "metadata": {},
   "outputs": [],
   "source": [
    "# slice of a list: another example of slice of a list by using list[start_index:end_index:step]\n",
    "# here is no start_index. It has only end_index and step, it starts prints by default from 0 index end_index by stepping 2\n",
    "rolls = [1, 2, 3, 4, 5, 6, 7, 8, 9]\n",
    "rolls[:5:2]"
   ]
  },
  {
   "cell_type": "code",
   "execution_count": null,
   "metadata": {},
   "outputs": [],
   "source": [
    "# slice of a list: another example of slice of a list by using list[start_index:end_index:step]\n",
    "# here are start_index, end_index and step, it starts prints from start_index to end_index by stepping 2\n",
    "rolls = [1, 2, 3, 4, 5, 6, 7, 8, 9]\n",
    "rolls[3:9:2]"
   ]
  },
  {
   "cell_type": "code",
   "execution_count": null,
   "metadata": {},
   "outputs": [],
   "source": [
    "# slice of a list: another example of slice in reverse order\n",
    "rolls = [1, 2, 3, 4, 5, 6, 7, 8, 9]\n",
    "rolls[::-1]"
   ]
  },
  {
   "cell_type": "code",
   "execution_count": null,
   "metadata": {},
   "outputs": [],
   "source": [
    "# slice of a list: another example of slice in reverse order\n",
    "rolls = [1, 2, 3, 4, 5, 6, 7, 8, 9]\n",
    "rolls[8:3:-2]"
   ]
  },
  {
   "cell_type": "code",
   "execution_count": null,
   "metadata": {},
   "outputs": [],
   "source": [
    "# slice of a list: another example of slice in reverse order\n",
    "rolls = [1, 2, 3, 4, 5, 6, 7, 8, 9]\n",
    "rolls[2:8][::-1]"
   ]
  },
  {
   "cell_type": "code",
   "execution_count": null,
   "metadata": {},
   "outputs": [],
   "source": [
    "# another example of reverse order while using string. we can reverse string value\n",
    "\"Mehedi\"[::-1]"
   ]
  },
  {
   "cell_type": "markdown",
   "metadata": {},
   "source": [
    "list functions: given the list of the functions we can use while using list\n",
    "01. append(value)\n"
   ]
  },
  {
   "cell_type": "code",
   "execution_count": null,
   "metadata": {},
   "outputs": [],
   "source": [
    "# functions of list: \n",
    "# list.append(12) here append function add values to the existiing list\n",
    "# append function add value in the last\n",
    "rolls = [1, 2, 3, 4, 5, 6, 7, 8, 9]\n",
    "rolls.append(10)\n",
    "rolls"
   ]
  },
  {
   "cell_type": "code",
   "execution_count": null,
   "metadata": {},
   "outputs": [],
   "source": [
    "# functions of list: \n",
    "# list.insert(0, 12) here 12 will be added at 0 index of this list\n",
    "rolls = [1, 2, 3, 4, 5, 6, 7, 8, 9]\n",
    "rolls.insert(0, 11)\n",
    "rolls"
   ]
  },
  {
   "cell_type": "code",
   "execution_count": null,
   "metadata": {},
   "outputs": [],
   "source": [
    "# functions of list: \n",
    "# list.insert(3, 12) here 12 will be added at 3 index of this list\n",
    "rolls = [1, 2, 3, 4, 5, 6, 7, 8, 9]\n",
    "rolls.insert(3, 11)\n",
    "rolls"
   ]
  },
  {
   "cell_type": "code",
   "execution_count": null,
   "metadata": {},
   "outputs": [],
   "source": [
    "# functions of list: \n",
    "# list.remove(9) here value:9 will be removed from this list\n",
    "# remove function take value or argumnent\n",
    "rolls = [1, 2, 3, 4, 5, 6, 7, 8, 9]\n",
    "rolls.remove(9)\n",
    "rolls"
   ]
  },
  {
   "cell_type": "code",
   "execution_count": null,
   "metadata": {},
   "outputs": [],
   "source": [
    "# functions of list: \n",
    "# if list has duplicate values then list.remove() function will remove first value from duplicate values\n",
    "rolls = [1, 2, 3, 4, 5, 5, 6, 7, 8, 9]\n",
    "rolls.remove(5)\n",
    "rolls"
   ]
  },
  {
   "cell_type": "code",
   "execution_count": null,
   "metadata": {},
   "outputs": [],
   "source": [
    "# functions of list: \n",
    "# pop() function will remove last value from a list\n",
    "rolls = [1, 2, 3, 4, 5, 6, 7, 8, 9]\n",
    "rolls.pop()\n",
    "rolls"
   ]
  },
  {
   "cell_type": "code",
   "execution_count": null,
   "metadata": {},
   "outputs": [],
   "source": [
    "# functions of list: \n",
    "# list.pop() function will also take the index and delete the value of that certain index\n",
    "rolls = [1, 2, 3, 4, 5, 6, 7, 8, 9]\n",
    "rolls.pop(2)\n",
    "rolls"
   ]
  },
  {
   "cell_type": "code",
   "execution_count": null,
   "metadata": {},
   "outputs": [],
   "source": [
    "# functions of list: \n",
    "# sort() function will sort the values in ascending order from a list\n",
    "# here ascending order is \n",
    "rolls = [132, 34, 56, 10, 11, 1, 2, 3, 4, 5, 6, 7, 8, 9]\n",
    "rolls.sort()\n",
    "rolls"
   ]
  },
  {
   "cell_type": "code",
   "execution_count": null,
   "metadata": {},
   "outputs": [],
   "source": [
    "# functions of list: \n",
    "# # list.sort(reverse = True) function will sort the values in descending order\n",
    "# here descending order is \n",
    "rolls = [132, 34, 56, 10, 11, 1, 2, 3, 4, 5, 6, 7, 8, 9]\n",
    "rolls.sort(reverse = True)\n",
    "rolls"
   ]
  },
  {
   "cell_type": "code",
   "execution_count": null,
   "metadata": {},
   "outputs": [],
   "source": [
    "# functions of list: \n",
    "# # list.count(), here this function is used for counting duplicate values means no of duplicate values\n",
    "rolls = [1, 2, 3, 3, 4, 5, 6, 7, 7, 7, 7, 8, 9]\n",
    "rolls.count(3)\n",
    "rolls.count(7)"
   ]
  },
  {
   "cell_type": "code",
   "execution_count": null,
   "metadata": {},
   "outputs": [],
   "source": [
    "# functions of list: \n",
    "# list.clear(), this function will clear all values of a list\n",
    "rolls = [1, 2, 3, 3, 4, 5, 6, 7, 7, 7, 7, 8, 9]\n",
    "rolls.clear()\n",
    "rolls"
   ]
  },
  {
   "cell_type": "code",
   "execution_count": null,
   "metadata": {},
   "outputs": [],
   "source": [
    "# functions of list: \n",
    "# list.copy(), this function will copy a list\n",
    "rolls = [1, 2, 3, 3, 4, 5, 6, 7, 7, 7, 7, 8, 9]\n",
    "var = rolls.copy()\n",
    "var"
   ]
  },
  {
   "cell_type": "code",
   "execution_count": null,
   "metadata": {},
   "outputs": [],
   "source": [
    "# functions of list: \n",
    "# list.index(value), here giving value and get the index number of that specific value\n",
    "rolls = [1, 2, 3, 4, 5, 6, 7, 8, 9]\n",
    "rolls.index(5)"
   ]
  },
  {
   "cell_type": "code",
   "execution_count": null,
   "metadata": {},
   "outputs": [],
   "source": [
    "# functions of list: \n",
    "# list.index(value), if duplicates value, it will take first value of its index\n",
    "rolls = [1, 2, 3, 4, 5, 5, 6, 7, 8, 9]\n",
    "rolls.index(5)"
   ]
  },
  {
   "cell_type": "code",
   "execution_count": null,
   "metadata": {},
   "outputs": [],
   "source": [
    "# functions of list: \n",
    "# list.extend([10, 11, 12, 13, 14, 15]), here the total value of new list will be added after existed list values\n",
    "rolls = [1, 2, 3, 4, 5, 5, 6, 7, 8, 9]\n",
    "rolls.extend([10, 11, 12, 13, 14, 15])\n",
    "rolls"
   ]
  },
  {
   "cell_type": "markdown",
   "metadata": {},
   "source": [
    "operation of list:..............................."
   ]
  },
  {
   "cell_type": "code",
   "execution_count": null,
   "metadata": {},
   "outputs": [],
   "source": [
    "# functions of list: \n",
    "# operation of a list\n",
    "rolls = [1, 2, 3, 4, 5, 5, 6, 7, 8, 9]\n",
    "rolls * 2\n",
    "rolls + [10, 11, 12, 13, 14, 15]"
   ]
  },
  {
   "cell_type": "markdown",
   "metadata": {},
   "source": [
    "This is ending of list type data structure"
   ]
  }
 ],
 "metadata": {
  "interpreter": {
   "hash": "c819db0b61094783b121348d134d41c4e0450ebc7e72307b330662436e6d9290"
  },
  "kernelspec": {
   "display_name": "Python 3.9.6 64-bit",
   "name": "python3"
  },
  "language_info": {
   "codemirror_mode": {
    "name": "ipython",
    "version": 3
   },
   "file_extension": ".py",
   "mimetype": "text/x-python",
   "name": "python",
   "nbconvert_exporter": "python",
   "pygments_lexer": "ipython3",
   "version": "3.9.6"
  },
  "orig_nbformat": 4
 },
 "nbformat": 4,
 "nbformat_minor": 2
}
