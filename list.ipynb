{
 "cells": [
  {
   "cell_type": "markdown",
   "source": [
    "Data Structure: There are 4 types of data structure used in python such as\r\n",
    "(i) list (ii) tuple (iii) set (iv) dictionary\r\n",
    "\r\n"
   ],
   "metadata": {}
  },
  {
   "cell_type": "code",
   "execution_count": 1,
   "source": [
    "# (i) list : different examples of list are shown below:\r\n",
    "# basic structure of list:\r\n",
    "# third braces is used for defining list\r\n",
    "# list always pop the value from the last\r\n",
    "rolls = [1, 2, 3, 4, 5, 6, 7, 8, 9]\r\n",
    "rolls\r\n"
   ],
   "outputs": [
    {
     "output_type": "execute_result",
     "data": {
      "text/plain": [
       "[1, 2, 3, 4, 5, 6, 7, 8, 9]"
      ]
     },
     "metadata": {},
     "execution_count": 1
    }
   ],
   "metadata": {}
  },
  {
   "cell_type": "markdown",
   "source": [
    "how to access list"
   ],
   "metadata": {}
  },
  {
   "cell_type": "code",
   "execution_count": 3,
   "source": [
    "# access values of list:\r\n",
    "rolls = [1, 2, 3, 4, 5, 6, 7, 8, 9]\r\n",
    "rolls[3]\r\n"
   ],
   "outputs": [
    {
     "output_type": "execute_result",
     "data": {
      "text/plain": [
       "4"
      ]
     },
     "metadata": {},
     "execution_count": 3
    }
   ],
   "metadata": {}
  },
  {
   "cell_type": "code",
   "execution_count": 5,
   "source": [
    "# access values of list: access the last element of this list\r\n",
    "rolls = [1, 2, 3, 4, 5, 6, 7, 8, 9]\r\n",
    "index = (len(rolls) - 1)\r\n",
    "rolls[index]\r\n"
   ],
   "outputs": [
    {
     "output_type": "execute_result",
     "data": {
      "text/plain": [
       "9"
      ]
     },
     "metadata": {},
     "execution_count": 5
    }
   ],
   "metadata": {}
  },
  {
   "cell_type": "code",
   "execution_count": 6,
   "source": [
    "# access values of list: access the last element of this list\r\n",
    "rolls = [1, 2, 3, 4, 5, 6, 7, 8, 9]\r\n",
    "rolls[-1]"
   ],
   "outputs": [
    {
     "output_type": "execute_result",
     "data": {
      "text/plain": [
       "9"
      ]
     },
     "metadata": {},
     "execution_count": 6
    }
   ],
   "metadata": {}
  },
  {
   "cell_type": "code",
   "execution_count": 7,
   "source": [
    "# access values of  a list from end to start values\r\n",
    "rolls = [1, 2, 3, 4, 5, 6, 7, 8, 9]\r\n",
    "rolls[-3]"
   ],
   "outputs": [
    {
     "output_type": "execute_result",
     "data": {
      "text/plain": [
       "7"
      ]
     },
     "metadata": {},
     "execution_count": 7
    }
   ],
   "metadata": {}
  },
  {
   "cell_type": "markdown",
   "source": [
    "list update"
   ],
   "metadata": {}
  },
  {
   "cell_type": "code",
   "execution_count": 1,
   "source": [
    "# update list: update value of a list\r\n",
    "rolls = [1, 2, 3, 4, 5, 6, 7, 8, 9]\r\n",
    "rolls[3] = 10\r\n",
    "rolls"
   ],
   "outputs": [
    {
     "output_type": "execute_result",
     "data": {
      "text/plain": [
       "[1, 2, 3, 10, 5, 6, 7, 8, 9]"
      ]
     },
     "metadata": {},
     "execution_count": 1
    }
   ],
   "metadata": {}
  },
  {
   "cell_type": "markdown",
   "source": [
    "list slicing"
   ],
   "metadata": {}
  },
  {
   "cell_type": "code",
   "execution_count": 5,
   "source": [
    "# slice of a list:\r\n",
    "rolls = [1, 2, 3, 4, 5, 6, 7, 8, 9]\r\n",
    "rolls[1:5]\r\n"
   ],
   "outputs": [
    {
     "output_type": "execute_result",
     "data": {
      "text/plain": [
       "[2, 3, 4, 5]"
      ]
     },
     "metadata": {},
     "execution_count": 5
    }
   ],
   "metadata": {}
  },
  {
   "cell_type": "code",
   "execution_count": 6,
   "source": [
    "# slice of a list: another example of slice of a list\r\n",
    "# we did not give any start index but by default it takes 0 index\r\n",
    "rolls = [1, 2, 3, 4, 5, 6, 7, 8, 9]\r\n",
    "rolls[:5]"
   ],
   "outputs": [
    {
     "output_type": "execute_result",
     "data": {
      "text/plain": [
       "[1, 2, 3, 4, 5]"
      ]
     },
     "metadata": {},
     "execution_count": 6
    }
   ],
   "metadata": {}
  },
  {
   "cell_type": "code",
   "execution_count": 9,
   "source": [
    "# slice of a list: another example of slice of a list\r\n",
    "# we did not give start index  and end index but by default it prints whole value of the list\r\n",
    "rolls = [1, 2, 3, 4, 5, 6, 7, 8, 9]\r\n",
    "rolls[:]"
   ],
   "outputs": [
    {
     "output_type": "execute_result",
     "data": {
      "text/plain": [
       "[1, 2, 3, 4, 5, 6, 7, 8, 9]"
      ]
     },
     "metadata": {},
     "execution_count": 9
    }
   ],
   "metadata": {}
  },
  {
   "cell_type": "code",
   "execution_count": 11,
   "source": [
    "# slice of a list: another example of slice of a list\r\n",
    "# we did not give end index but by default it prints from start index to last value of the list\r\n",
    "rolls = [1, 2, 3, 4, 5, 6, 7, 8, 9]\r\n",
    "rolls[2:]"
   ],
   "outputs": [
    {
     "output_type": "execute_result",
     "data": {
      "text/plain": [
       "[3, 4, 5, 6, 7, 8, 9]"
      ]
     },
     "metadata": {},
     "execution_count": 11
    }
   ],
   "metadata": {}
  },
  {
   "cell_type": "code",
   "execution_count": 13,
   "source": [
    "# slice of a list: another example of slice of a list by using list[start_index:end_index:step]\r\n",
    "# here are no start_index and end_index. It has only step, it prints just after adding 2\r\n",
    "rolls = [1, 2, 3, 4, 5, 6, 7, 8, 9]\r\n",
    "rolls[::2]"
   ],
   "outputs": [
    {
     "output_type": "execute_result",
     "data": {
      "text/plain": [
       "[1, 3, 5, 7, 9]"
      ]
     },
     "metadata": {},
     "execution_count": 13
    }
   ],
   "metadata": {}
  },
  {
   "cell_type": "code",
   "execution_count": 15,
   "source": [
    "# slice of a list: another example of slice of a list byusing list[start_index:end_index:step]\r\n",
    "# here is no end_index. It has only start_index and step, it starts prints from start_index to last by stepping 2\r\n",
    "rolls = [1, 2, 3, 4, 5, 6, 7, 8, 9]\r\n",
    "rolls[3::2]"
   ],
   "outputs": [
    {
     "output_type": "execute_result",
     "data": {
      "text/plain": [
       "[4, 6, 8]"
      ]
     },
     "metadata": {},
     "execution_count": 15
    }
   ],
   "metadata": {}
  },
  {
   "cell_type": "code",
   "execution_count": 17,
   "source": [
    "# slice of a list: another example of slice of a list by using list[start_index:end_index:step]\r\n",
    "# here is no start_index. It has only end_index and step, it starts prints by default from 0 index end_index by stepping 2\r\n",
    "rolls = [1, 2, 3, 4, 5, 6, 7, 8, 9]\r\n",
    "rolls[:5:2]"
   ],
   "outputs": [
    {
     "output_type": "execute_result",
     "data": {
      "text/plain": [
       "[1, 3, 5]"
      ]
     },
     "metadata": {},
     "execution_count": 17
    }
   ],
   "metadata": {}
  },
  {
   "cell_type": "code",
   "execution_count": 19,
   "source": [
    "# slice of a list: another example of slice of a list by using list[start_index:end_index:step]\r\n",
    "# here are start_index, end_index and step, it starts prints from start_index to end_index by stepping 2\r\n",
    "rolls = [1, 2, 3, 4, 5, 6, 7, 8, 9]\r\n",
    "rolls[3:9:2]"
   ],
   "outputs": [
    {
     "output_type": "execute_result",
     "data": {
      "text/plain": [
       "[4, 6, 8]"
      ]
     },
     "metadata": {},
     "execution_count": 19
    }
   ],
   "metadata": {}
  },
  {
   "cell_type": "code",
   "execution_count": 20,
   "source": [
    "# slice of a list: another example of slice in reverse order\r\n",
    "rolls = [1, 2, 3, 4, 5, 6, 7, 8, 9]\r\n",
    "rolls[::-1]"
   ],
   "outputs": [
    {
     "output_type": "execute_result",
     "data": {
      "text/plain": [
       "[9, 8, 7, 6, 5, 4, 3, 2, 1]"
      ]
     },
     "metadata": {},
     "execution_count": 20
    }
   ],
   "metadata": {}
  },
  {
   "cell_type": "code",
   "execution_count": 22,
   "source": [
    "# slice of a list: another example of slice in reverse order\r\n",
    "rolls = [1, 2, 3, 4, 5, 6, 7, 8, 9]\r\n",
    "rolls[8:3:-2]"
   ],
   "outputs": [
    {
     "output_type": "execute_result",
     "data": {
      "text/plain": [
       "[9, 7, 5]"
      ]
     },
     "metadata": {},
     "execution_count": 22
    }
   ],
   "metadata": {}
  },
  {
   "cell_type": "code",
   "execution_count": 23,
   "source": [
    "# slice of a list: another example of slice in reverse order\r\n",
    "rolls = [1, 2, 3, 4, 5, 6, 7, 8, 9]\r\n",
    "rolls[2:8][::-1]"
   ],
   "outputs": [
    {
     "output_type": "execute_result",
     "data": {
      "text/plain": [
       "[8, 7, 6, 5, 4, 3]"
      ]
     },
     "metadata": {},
     "execution_count": 23
    }
   ],
   "metadata": {}
  },
  {
   "cell_type": "code",
   "execution_count": 24,
   "source": [
    "# another example of reverse order while using string. we can reverse string value\r\n",
    "\"Mehedi\"[::-1]"
   ],
   "outputs": [
    {
     "output_type": "execute_result",
     "data": {
      "text/plain": [
       "'ideheM'"
      ]
     },
     "metadata": {},
     "execution_count": 24
    }
   ],
   "metadata": {}
  },
  {
   "cell_type": "markdown",
   "source": [
    "list functions: given the list of the functions we can use while using list\r\n",
    "01. append(value)\r\n"
   ],
   "metadata": {}
  },
  {
   "cell_type": "code",
   "execution_count": 26,
   "source": [
    "# functions of list: \r\n",
    "# list.append(12) here append function add values to the existiing list\r\n",
    "# append function add value in the last\r\n",
    "rolls = [1, 2, 3, 4, 5, 6, 7, 8, 9]\r\n",
    "rolls.append(10)\r\n",
    "rolls"
   ],
   "outputs": [
    {
     "output_type": "execute_result",
     "data": {
      "text/plain": [
       "[1, 2, 3, 4, 5, 6, 7, 8, 9, 10]"
      ]
     },
     "metadata": {},
     "execution_count": 26
    }
   ],
   "metadata": {}
  },
  {
   "cell_type": "code",
   "execution_count": 27,
   "source": [
    "# functions of list: \r\n",
    "# list.insert(0, 12) here 12 will be added at 0 index of this list\r\n",
    "rolls = [1, 2, 3, 4, 5, 6, 7, 8, 9]\r\n",
    "rolls.insert(0, 11)\r\n",
    "rolls"
   ],
   "outputs": [
    {
     "output_type": "execute_result",
     "data": {
      "text/plain": [
       "[11, 1, 2, 3, 4, 5, 6, 7, 8, 9]"
      ]
     },
     "metadata": {},
     "execution_count": 27
    }
   ],
   "metadata": {}
  },
  {
   "cell_type": "code",
   "execution_count": 28,
   "source": [
    "# functions of list: \r\n",
    "# list.insert(3, 12) here 12 will be added at 3 index of this list\r\n",
    "rolls = [1, 2, 3, 4, 5, 6, 7, 8, 9]\r\n",
    "rolls.insert(3, 11)\r\n",
    "rolls"
   ],
   "outputs": [
    {
     "output_type": "execute_result",
     "data": {
      "text/plain": [
       "[1, 2, 3, 11, 4, 5, 6, 7, 8, 9]"
      ]
     },
     "metadata": {},
     "execution_count": 28
    }
   ],
   "metadata": {}
  },
  {
   "cell_type": "code",
   "execution_count": 29,
   "source": [
    "# functions of list: \r\n",
    "# list.remove(9) here value:9 will be removed from this list\r\n",
    "# remove function take value or argumnent\r\n",
    "rolls = [1, 2, 3, 4, 5, 6, 7, 8, 9]\r\n",
    "rolls.remove(9)\r\n",
    "rolls"
   ],
   "outputs": [
    {
     "output_type": "execute_result",
     "data": {
      "text/plain": [
       "[1, 2, 3, 4, 5, 6, 7, 8]"
      ]
     },
     "metadata": {},
     "execution_count": 29
    }
   ],
   "metadata": {}
  },
  {
   "cell_type": "code",
   "execution_count": 30,
   "source": [
    "# functions of list: \r\n",
    "# if list has duplicate values then list.remove() function will remove first value from duplicate values\r\n",
    "rolls = [1, 2, 3, 4, 5, 5, 6, 7, 8, 9]\r\n",
    "rolls.remove(5)\r\n",
    "rolls"
   ],
   "outputs": [
    {
     "output_type": "execute_result",
     "data": {
      "text/plain": [
       "[1, 2, 3, 4, 5, 6, 7, 8, 9]"
      ]
     },
     "metadata": {},
     "execution_count": 30
    }
   ],
   "metadata": {}
  },
  {
   "cell_type": "code",
   "execution_count": 34,
   "source": [
    "# functions of list: \r\n",
    "# pop() function will remove last value from a list\r\n",
    "rolls = [1, 2, 3, 4, 5, 6, 7, 8, 9]\r\n",
    "rolls.pop()\r\n",
    "rolls"
   ],
   "outputs": [
    {
     "output_type": "execute_result",
     "data": {
      "text/plain": [
       "[1, 2, 3, 4, 5, 6, 7, 8]"
      ]
     },
     "metadata": {},
     "execution_count": 34
    }
   ],
   "metadata": {}
  },
  {
   "cell_type": "code",
   "execution_count": 35,
   "source": [
    "# functions of list: \r\n",
    "# list.pop() function will also take the index and delete the value of that certain index\r\n",
    "rolls = [1, 2, 3, 4, 5, 6, 7, 8, 9]\r\n",
    "rolls.pop(2)\r\n",
    "rolls"
   ],
   "outputs": [
    {
     "output_type": "execute_result",
     "data": {
      "text/plain": [
       "[1, 2, 4, 5, 6, 7, 8, 9]"
      ]
     },
     "metadata": {},
     "execution_count": 35
    }
   ],
   "metadata": {}
  },
  {
   "cell_type": "code",
   "execution_count": 32,
   "source": [
    "# functions of list: \r\n",
    "# sort() function will sort the values in ascending order from a list\r\n",
    "# here ascending order is \r\n",
    "rolls = [132, 34, 56, 10, 11, 1, 2, 3, 4, 5, 6, 7, 8, 9]\r\n",
    "rolls.sort()\r\n",
    "rolls"
   ],
   "outputs": [
    {
     "output_type": "execute_result",
     "data": {
      "text/plain": [
       "[1, 2, 3, 4, 5, 6, 7, 8, 9, 10, 11, 34, 56, 132]"
      ]
     },
     "metadata": {},
     "execution_count": 32
    }
   ],
   "metadata": {}
  },
  {
   "cell_type": "code",
   "execution_count": 33,
   "source": [
    "# functions of list: \r\n",
    "# # list.sort(reverse = True) function will sort the values in descending order\r\n",
    "# here descending order is \r\n",
    "rolls = [132, 34, 56, 10, 11, 1, 2, 3, 4, 5, 6, 7, 8, 9]\r\n",
    "rolls.sort(reverse = True)\r\n",
    "rolls"
   ],
   "outputs": [
    {
     "output_type": "execute_result",
     "data": {
      "text/plain": [
       "[132, 56, 34, 11, 10, 9, 8, 7, 6, 5, 4, 3, 2, 1]"
      ]
     },
     "metadata": {},
     "execution_count": 33
    }
   ],
   "metadata": {}
  },
  {
   "cell_type": "code",
   "execution_count": 38,
   "source": [
    "# functions of list: \r\n",
    "# # list.count(), here this function is used for counting duplicate values means no of duplicate values\r\n",
    "rolls = [1, 2, 3, 3, 4, 5, 6, 7, 7, 7, 7, 8, 9]\r\n",
    "rolls.count(3)\r\n",
    "rolls.count(7)"
   ],
   "outputs": [
    {
     "output_type": "execute_result",
     "data": {
      "text/plain": [
       "4"
      ]
     },
     "metadata": {},
     "execution_count": 38
    }
   ],
   "metadata": {}
  },
  {
   "cell_type": "code",
   "execution_count": 41,
   "source": [
    "# functions of list: \r\n",
    "# list.clear(), this function will clear all values of a list\r\n",
    "rolls = [1, 2, 3, 3, 4, 5, 6, 7, 7, 7, 7, 8, 9]\r\n",
    "rolls.clear()\r\n",
    "rolls"
   ],
   "outputs": [
    {
     "output_type": "execute_result",
     "data": {
      "text/plain": [
       "[]"
      ]
     },
     "metadata": {},
     "execution_count": 41
    }
   ],
   "metadata": {}
  },
  {
   "cell_type": "code",
   "execution_count": 47,
   "source": [
    "# functions of list: \r\n",
    "# list.copy(), this function will copy a list\r\n",
    "rolls = [1, 2, 3, 3, 4, 5, 6, 7, 7, 7, 7, 8, 9]\r\n",
    "var = rolls.copy()\r\n",
    "var"
   ],
   "outputs": [
    {
     "output_type": "execute_result",
     "data": {
      "text/plain": [
       "[1, 2, 3, 3, 4, 5, 6, 7, 7, 7, 7, 8, 9]"
      ]
     },
     "metadata": {},
     "execution_count": 47
    }
   ],
   "metadata": {}
  },
  {
   "cell_type": "code",
   "execution_count": 1,
   "source": [
    "# functions of list: \r\n",
    "# list.index(value), here giving value and get the index number of that specific value\r\n",
    "rolls = [1, 2, 3, 4, 5, 6, 7, 8, 9]\r\n",
    "rolls.index(5)"
   ],
   "outputs": [
    {
     "output_type": "execute_result",
     "data": {
      "text/plain": [
       "4"
      ]
     },
     "metadata": {},
     "execution_count": 1
    }
   ],
   "metadata": {}
  },
  {
   "cell_type": "code",
   "execution_count": 49,
   "source": [
    "# functions of list: \r\n",
    "# list.index(value), if duplicates value, it will take first value of its index\r\n",
    "rolls = [1, 2, 3, 4, 5, 5, 6, 7, 8, 9]\r\n",
    "rolls.index(5)"
   ],
   "outputs": [
    {
     "output_type": "execute_result",
     "data": {
      "text/plain": [
       "4"
      ]
     },
     "metadata": {},
     "execution_count": 49
    }
   ],
   "metadata": {}
  },
  {
   "cell_type": "code",
   "execution_count": 53,
   "source": [
    "# functions of list: \r\n",
    "# list.extend([10, 11, 12, 13, 14, 15]), here the total value of new list will be added after existed list values\r\n",
    "rolls = [1, 2, 3, 4, 5, 5, 6, 7, 8, 9]\r\n",
    "rolls.extend([10, 11, 12, 13, 14, 15])\r\n",
    "rolls"
   ],
   "outputs": [
    {
     "output_type": "execute_result",
     "data": {
      "text/plain": [
       "[1, 2, 3, 4, 5, 5, 6, 7, 8, 9, 10, 11, 12, 13, 14, 15, 0]"
      ]
     },
     "metadata": {},
     "execution_count": 53
    }
   ],
   "metadata": {}
  },
  {
   "cell_type": "markdown",
   "source": [
    "operation of list:..............................."
   ],
   "metadata": {}
  },
  {
   "cell_type": "code",
   "execution_count": 55,
   "source": [
    "# functions of list: \r\n",
    "# operation of a list\r\n",
    "rolls = [1, 2, 3, 4, 5, 5, 6, 7, 8, 9]\r\n",
    "rolls * 2\r\n",
    "rolls + [10, 11, 12, 13, 14, 15]"
   ],
   "outputs": [
    {
     "output_type": "execute_result",
     "data": {
      "text/plain": [
       "[1, 2, 3, 4, 5, 5, 6, 7, 8, 9, 10, 11, 12, 13, 14, 15]"
      ]
     },
     "metadata": {},
     "execution_count": 55
    }
   ],
   "metadata": {}
  },
  {
   "cell_type": "markdown",
   "source": [
    "This is ending of list type data structure"
   ],
   "metadata": {}
  }
 ],
 "metadata": {
  "orig_nbformat": 4,
  "language_info": {
   "name": "python",
   "version": "3.9.6",
   "mimetype": "text/x-python",
   "codemirror_mode": {
    "name": "ipython",
    "version": 3
   },
   "pygments_lexer": "ipython3",
   "nbconvert_exporter": "python",
   "file_extension": ".py"
  },
  "kernelspec": {
   "name": "python3",
   "display_name": "Python 3.9.6 64-bit"
  },
  "interpreter": {
   "hash": "c819db0b61094783b121348d134d41c4e0450ebc7e72307b330662436e6d9290"
  }
 },
 "nbformat": 4,
 "nbformat_minor": 2
}