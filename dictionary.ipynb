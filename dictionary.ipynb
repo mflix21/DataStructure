{
 "cells": [
  {
   "cell_type": "markdown",
   "metadata": {},
   "source": [
    "dictionary: basic structure of dictionary\n",
    "01. dictionary always use second or carly braces\n",
    "02. dictionary has two element one is key and another is key matched value\n",
    "03. this key value must be unique\n",
    "04. key value could be either string or integer\n",
    "05. This is ordered based data structure\n"
   ]
  },
  {
   "cell_type": "code",
   "execution_count": null,
   "metadata": {},
   "outputs": [],
   "source": [
    "# basic structure of dictionary:\n",
    "d = {1: \"Mehedi\", 2: \"Muntaha\", 3: \"Sidratul\", 4: \"Shimla\"}\n",
    "d\n"
   ]
  },
  {
   "cell_type": "code",
   "execution_count": null,
   "metadata": {},
   "outputs": [],
   "source": [
    "# fruitful example of dictionary\n",
    "# access dictionary\n",
    "roll = [1, 2, 3, 4]\n",
    "nm = [\"mehedi\", \"muntaha\", \"sidratul\", \"simla\"]\n",
    "gr = [\"m\", \"f\", \"m\", \"f\"]\n",
    "info = {1: roll, \"name\": nm, \"gender\": gr}\n",
    "info[1]\n",
    "info[\"name\"]\n",
    "info[\"gender\"]\n"
   ]
  },
  {
   "cell_type": "code",
   "execution_count": null,
   "metadata": {},
   "outputs": [],
   "source": [
    "# update dictionary\n",
    "d = {1: \"alex\", 2: \"alexa\", \"ages\": 24}\n",
    "d[\"ages\"] = 30\n",
    "d[\"ages\"]"
   ]
  },
  {
   "cell_type": "code",
   "execution_count": null,
   "metadata": {},
   "outputs": [],
   "source": [
    "# add value in a dictionary\n",
    "d = {1: \"alex\", 2: \"alexa\", \"ages\": 24}\n",
    "d[\"sex\"] = \"male\"\n",
    "d[\"sex\"]"
   ]
  },
  {
   "cell_type": "code",
   "execution_count": null,
   "metadata": {},
   "outputs": [],
   "source": [
    "# delete value in a dictionary\n",
    "d = {1: \"alex\", 2: \"alexa\", \"ages\": 24}\n",
    "del d[\"ages\"]\n",
    "d"
   ]
  },
  {
   "cell_type": "markdown",
   "metadata": {},
   "source": [
    "function of dictionary"
   ]
  },
  {
   "cell_type": "code",
   "execution_count": null,
   "metadata": {},
   "outputs": [],
   "source": [
    "# get() function is used to get a value through key of a dictionary\n",
    "# this is used for accessing value\n",
    "d = {1: \"alex\", 2: \"alexa\", \"ages\": 24}\n",
    "d.get(\"ages\")"
   ]
  },
  {
   "cell_type": "code",
   "execution_count": null,
   "metadata": {},
   "outputs": [],
   "source": [
    "# pop() function is used for delete a pair through key\n",
    "d = {1: \"alex\", 2: \"alexa\", \"ages\": 24}\n",
    "d.pop(\"ages\")\n",
    "d"
   ]
  },
  {
   "cell_type": "code",
   "execution_count": null,
   "metadata": {},
   "outputs": [],
   "source": [
    "# popitem() function is used for delete last pair of a dictionary\n",
    "d = {1: \"alex\", 2: \"alexa\", \"ages\": 24}\n",
    "d.popitem()\n",
    "d"
   ]
  },
  {
   "cell_type": "code",
   "execution_count": null,
   "metadata": {},
   "outputs": [],
   "source": [
    "# differentiate accessing a dictionary\n",
    "d = {1: \"alex\", 2: \"alexa\", \"ages\": 24}\n",
    "# d.[\"sadfsdf\"]         it gives an erro\n",
    "d.get(\"dfsgdg\")         # it gives nothing because there is no such type of value"
   ]
  },
  {
   "cell_type": "code",
   "execution_count": null,
   "metadata": {},
   "outputs": [],
   "source": [
    "# items() function is used for see the whole value as a list and\n",
    "# inside a list every pair represents as tuple\n",
    "d = {1: \"alex\", 2: \"alexa\", \"ages\": 24}\n",
    "d.items()\n"
   ]
  },
  {
   "cell_type": "code",
   "execution_count": null,
   "metadata": {},
   "outputs": [],
   "source": [
    "# clear() function is used for clear the whole dictionary\n",
    "d = {1: \"alex\", 2: \"alexa\", \"ages\": 24}\n",
    "d.clear()\n",
    "d\n"
   ]
  },
  {
   "cell_type": "code",
   "execution_count": null,
   "metadata": {},
   "outputs": [],
   "source": [
    "# there are another functions are used in dictionary such as\n",
    "d = {1: \"alex\", 2: \"alexa\", \"ages\": 24}\n",
    "# d.copy(), this function is used for copying dictionary\n",
    "# d.keys(), this function returns all keys of a dictionary\n",
    "# d.values(), this function returns all the values fo a dictionary"
   ]
  }
 ],
 "metadata": {
  "interpreter": {
   "hash": "c819db0b61094783b121348d134d41c4e0450ebc7e72307b330662436e6d9290"
  },
  "kernelspec": {
   "display_name": "Python 3.9.6 64-bit",
   "name": "python3"
  },
  "language_info": {
   "codemirror_mode": {
    "name": "ipython",
    "version": 3
   },
   "file_extension": ".py",
   "mimetype": "text/x-python",
   "name": "python",
   "nbconvert_exporter": "python",
   "pygments_lexer": "ipython3",
   "version": "3.9.6"
  },
  "orig_nbformat": 4
 },
 "nbformat": 4,
 "nbformat_minor": 2
}
