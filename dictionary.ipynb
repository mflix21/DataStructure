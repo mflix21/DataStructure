{
 "cells": [
  {
   "cell_type": "markdown",
   "source": [
    "dictionary: basic structure of dictionary\r\n",
    "01. dictionary always use second or carly braces\r\n",
    "02. dictionary has two element one is key and another is key matched value\r\n",
    "03. this key value must be unique\r\n",
    "04. key value could be either string or integer\r\n",
    "05. This is ordered based data structure\r\n"
   ],
   "metadata": {}
  },
  {
   "cell_type": "code",
   "execution_count": 1,
   "source": [
    "# basic structure of dictionary:\r\n",
    "d = {1: \"Mehedi\", 2: \"Muntaha\", 3: \"Sidratul\", 4: \"Shimla\"}\r\n",
    "d\r\n"
   ],
   "outputs": [
    {
     "output_type": "execute_result",
     "data": {
      "text/plain": [
       "{1: 'Mehedi', 2: 'Muntaha', 3: 'Sidratul', 4: 'Shimla'}"
      ]
     },
     "metadata": {},
     "execution_count": 1
    }
   ],
   "metadata": {}
  },
  {
   "cell_type": "code",
   "execution_count": 3,
   "source": [
    "# fruitful example of dictionary\r\n",
    "# access dictionary\r\n",
    "roll = [1, 2, 3, 4]\r\n",
    "nm = [\"mehedi\", \"muntaha\", \"sidratul\", \"simla\"]\r\n",
    "gr = [\"m\", \"f\", \"m\", \"f\"]\r\n",
    "info = {1: roll, \"name\": nm, \"gender\": gr}\r\n",
    "info[1]\r\n",
    "info[\"name\"]\r\n",
    "info[\"gender\"]\r\n"
   ],
   "outputs": [
    {
     "output_type": "execute_result",
     "data": {
      "text/plain": [
       "['m', 'f', 'm', 'f']"
      ]
     },
     "metadata": {},
     "execution_count": 3
    }
   ],
   "metadata": {}
  },
  {
   "cell_type": "code",
   "execution_count": 5,
   "source": [
    "# update dictionary\r\n",
    "d = {1: \"alex\", 2: \"alexa\", \"ages\": 24}\r\n",
    "d[\"ages\"] = 30\r\n",
    "d[\"ages\"]"
   ],
   "outputs": [
    {
     "output_type": "execute_result",
     "data": {
      "text/plain": [
       "30"
      ]
     },
     "metadata": {},
     "execution_count": 5
    }
   ],
   "metadata": {}
  },
  {
   "cell_type": "code",
   "execution_count": 6,
   "source": [
    "# add value in a dictionary\r\n",
    "d = {1: \"alex\", 2: \"alexa\", \"ages\": 24}\r\n",
    "d[\"sex\"] = \"male\"\r\n",
    "d[\"sex\"]"
   ],
   "outputs": [
    {
     "output_type": "execute_result",
     "data": {
      "text/plain": [
       "'male'"
      ]
     },
     "metadata": {},
     "execution_count": 6
    }
   ],
   "metadata": {}
  },
  {
   "cell_type": "code",
   "execution_count": 7,
   "source": [
    "# delete value in a dictionary\r\n",
    "d = {1: \"alex\", 2: \"alexa\", \"ages\": 24}\r\n",
    "del d[\"ages\"]\r\n",
    "d"
   ],
   "outputs": [
    {
     "output_type": "execute_result",
     "data": {
      "text/plain": [
       "{1: 'alex', 2: 'alexa'}"
      ]
     },
     "metadata": {},
     "execution_count": 7
    }
   ],
   "metadata": {}
  },
  {
   "cell_type": "markdown",
   "source": [
    "function of dictionary"
   ],
   "metadata": {}
  },
  {
   "cell_type": "code",
   "execution_count": 8,
   "source": [
    "# get() function is used to get a value through key of a dictionary\r\n",
    "# this is used for accessing value\r\n",
    "d = {1: \"alex\", 2: \"alexa\", \"ages\": 24}\r\n",
    "d.get(\"ages\")"
   ],
   "outputs": [
    {
     "output_type": "execute_result",
     "data": {
      "text/plain": [
       "24"
      ]
     },
     "metadata": {},
     "execution_count": 8
    }
   ],
   "metadata": {}
  },
  {
   "cell_type": "code",
   "execution_count": 16,
   "source": [
    "# pop() function is used for delete a pair through key\r\n",
    "d = {1: \"alex\", 2: \"alexa\", \"ages\": 24}\r\n",
    "d.pop(\"ages\")\r\n",
    "d"
   ],
   "outputs": [
    {
     "output_type": "execute_result",
     "data": {
      "text/plain": [
       "{1: 'alex', 2: 'alexa'}"
      ]
     },
     "metadata": {},
     "execution_count": 16
    }
   ],
   "metadata": {}
  },
  {
   "cell_type": "code",
   "execution_count": 18,
   "source": [
    "# popitem() function is used for delete last pair of a dictionary\r\n",
    "d = {1: \"alex\", 2: \"alexa\", \"ages\": 24}\r\n",
    "d.popitem()\r\n",
    "d"
   ],
   "outputs": [
    {
     "output_type": "execute_result",
     "data": {
      "text/plain": [
       "{1: 'alex', 2: 'alexa'}"
      ]
     },
     "metadata": {},
     "execution_count": 18
    }
   ],
   "metadata": {}
  },
  {
   "cell_type": "code",
   "execution_count": 12,
   "source": [
    "# differentiate accessing a dictionary\r\n",
    "d = {1: \"alex\", 2: \"alexa\", \"ages\": 24}\r\n",
    "# d.[\"sadfsdf\"]         it gives an erro\r\n",
    "d.get(\"dfsgdg\")         # it gives nothing because there is no such type of value"
   ],
   "outputs": [],
   "metadata": {}
  },
  {
   "cell_type": "code",
   "execution_count": 13,
   "source": [
    "# items() function is used for see the whole value as a list and\r\n",
    "# inside a list every pair represents as tuple\r\n",
    "d = {1: \"alex\", 2: \"alexa\", \"ages\": 24}\r\n",
    "d.items()\r\n"
   ],
   "outputs": [
    {
     "output_type": "execute_result",
     "data": {
      "text/plain": [
       "dict_items([(1, 'alex'), (2, 'alexa'), ('ages', 24)])"
      ]
     },
     "metadata": {},
     "execution_count": 13
    }
   ],
   "metadata": {}
  },
  {
   "cell_type": "code",
   "execution_count": 15,
   "source": [
    "# clear() function is used for clear the whole dictionary\r\n",
    "d = {1: \"alex\", 2: \"alexa\", \"ages\": 24}\r\n",
    "d.clear()\r\n",
    "d\r\n"
   ],
   "outputs": [
    {
     "output_type": "execute_result",
     "data": {
      "text/plain": [
       "{}"
      ]
     },
     "metadata": {},
     "execution_count": 15
    }
   ],
   "metadata": {}
  },
  {
   "cell_type": "code",
   "execution_count": null,
   "source": [
    "# there are another functions are used in dictionary such as\r\n",
    "d = {1: \"alex\", 2: \"alexa\", \"ages\": 24}\r\n",
    "# d.copy(), this function is used for copying dictionary\r\n",
    "# d.keys(), this function returns all keys of a dictionary\r\n",
    "# d.values(), this function returns all the values fo a dictionary"
   ],
   "outputs": [],
   "metadata": {}
  }
 ],
 "metadata": {
  "orig_nbformat": 4,
  "language_info": {
   "name": "python",
   "version": "3.9.6",
   "mimetype": "text/x-python",
   "codemirror_mode": {
    "name": "ipython",
    "version": 3
   },
   "pygments_lexer": "ipython3",
   "nbconvert_exporter": "python",
   "file_extension": ".py"
  },
  "kernelspec": {
   "name": "python3",
   "display_name": "Python 3.9.6 64-bit"
  },
  "interpreter": {
   "hash": "c819db0b61094783b121348d134d41c4e0450ebc7e72307b330662436e6d9290"
  }
 },
 "nbformat": 4,
 "nbformat_minor": 2
}