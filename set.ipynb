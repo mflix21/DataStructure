{
 "cells": [
  {
   "cell_type": "markdown",
   "metadata": {},
   "source": [
    "set starts: this is another kinds of data structure\n",
    "01. set always use second braces or carly braces for defining\n",
    "02. set pop the value from the first\n",
    "03. it will never return duplicate values"
   ]
  },
  {
   "cell_type": "code",
   "execution_count": null,
   "metadata": {},
   "outputs": [],
   "source": [
    "# set example:\n",
    "# basic structure of set\n",
    "s1 = {1, 2, 3, 4, 4, 4, 5, 6, 7, 8, 9}\n",
    "s1"
   ]
  },
  {
   "cell_type": "code",
   "execution_count": null,
   "metadata": {},
   "outputs": [],
   "source": [
    "# set example:\n",
    "# set will never allow duplicates value\n",
    "s1 = {1, 2, 3, 4, 4, 4, 5, 6, 7, 8, 9}\n",
    "s1"
   ]
  },
  {
   "cell_type": "code",
   "execution_count": null,
   "metadata": {},
   "outputs": [],
   "source": [
    "# set example:\n",
    "# usage of len function: it always avoid duplicates values for finding length of this set\n",
    "s1 = {1, 2, 3, 4, 4, 4, 5, 6, 7, 8, 9}\n",
    "len(s1)"
   ]
  },
  {
   "cell_type": "code",
   "execution_count": null,
   "metadata": {},
   "outputs": [],
   "source": [
    "# set example: access set\n",
    "s1 = {1, 2, 3, 4, 4, 4, 5, 6, 7, 8, 9}\n",
    "# s1[4] we can not access set in this way"
   ]
  },
  {
   "cell_type": "markdown",
   "metadata": {},
   "source": [
    "# function of set data structure:\n",
    "01. add(value in the last)\n",
    "02. clear(all value)\n",
    "03. copy(copy set)\n",
    "04. update(value insertion like add function)\n",
    "05. union(excludes duplicate value)\n",
    "06. intersection(return common values)\n",
    "07. difference(prirotise first one and remove all duplicates value)\n",
    "08. difference_update(different function just first set would be the new value by this function)\n",
    "09. pop(delete first value)\n",
    "10. remove(value will be deleted. if duplicates, first one will be deleted)"
   ]
  },
  {
   "cell_type": "code",
   "execution_count": null,
   "metadata": {},
   "outputs": [],
   "source": [
    "# function of set:\n",
    "# s1.add(10), here value 10 will be added at the end of this set\n",
    "s1 = {1, 2, 3, 4, 4, 4, 5, 6, 7, 8, 9}\n",
    "s1.add(10)\n",
    "s1"
   ]
  },
  {
   "cell_type": "code",
   "execution_count": null,
   "metadata": {},
   "outputs": [],
   "source": [
    "# function of set:\n",
    "# s1.clear() here this clear function will clear the set\n",
    "s1 = {1, 2, 3, 4, 4, 4, 5, 6, 7, 8, 9}\n",
    "s1.clear()\n",
    "s1"
   ]
  },
  {
   "cell_type": "code",
   "execution_count": null,
   "metadata": {},
   "outputs": [],
   "source": [
    "# function of set:\n",
    "# s1.copy(), here this function will copy the s1 set\n",
    "s1 = {1, 2, 3, 4, 4, 4, 5, 6, 7, 8, 9}\n",
    "s2 = s1.copy()\n",
    "s2"
   ]
  },
  {
   "cell_type": "code",
   "execution_count": null,
   "metadata": {},
   "outputs": [],
   "source": [
    "# function of set:\n",
    "# s1.update((10, 11)), this function will add values in the end\n",
    "s1 = {1, 2, 3, 4, 4, 4, 5, 6, 7, 8, 9}\n",
    "s1.update((10, 11))\n",
    "s1"
   ]
  },
  {
   "cell_type": "code",
   "execution_count": null,
   "metadata": {},
   "outputs": [],
   "source": [
    "# Mathematical function of set: union() function always return unique value, \n",
    "# it excludes duplicate values\n",
    "s1 = {1, 2, 3, 4, 5, 6, 7, 8, 9, 10}\n",
    "s2 = {6, 7, 8, 9, 10, 11, 12, 13}\n",
    "s1.union(s2)"
   ]
  },
  {
   "cell_type": "code",
   "execution_count": null,
   "metadata": {},
   "outputs": [],
   "source": [
    "# Mathematical function of set: s1.intersection() function always return common values\n",
    "s1 = {1, 2, 3, 4, 5, 6, 7, 8, 9, 10}\n",
    "s2 = {6, 7, 8, 9, 10, 11, 12, 13}\n",
    "s1.intersection(s2)"
   ]
  },
  {
   "cell_type": "code",
   "execution_count": null,
   "metadata": {},
   "outputs": [],
   "source": [
    "# Mathematical function of set: s1.difference(s2) function deduct common values from s2 but priotise s1 value\n",
    "s1 = {1, 2, 3, 4, 5, 6, 7, 8, 9, 10}\n",
    "s2 = {6, 7, 8, 9, 10, 11, 12, 13}\n",
    "s1.difference(s2)"
   ]
  },
  {
   "cell_type": "code",
   "execution_count": null,
   "metadata": {},
   "outputs": [],
   "source": [
    "# Mathematical function of set: s1.difference_update(s2) function deduct common values from s2 \n",
    "# but priotise s1 value and differenced s1 value will be new value of s1\n",
    "s1 = {1, 2, 3, 4, 5, 6, 7, 8, 9, 10}\n",
    "s2 = {6, 7, 8, 9, 10, 11, 12, 13}\n",
    "s1.difference_update(s2)\n",
    "s1"
   ]
  },
  {
   "cell_type": "code",
   "execution_count": null,
   "metadata": {},
   "outputs": [],
   "source": [
    "# Mathematical function of set: s1.pop() function delete first value of a set\n",
    "s1 = {1, 2, 3, 4, 5, 6, 7, 8, 9, 10}\n",
    "s1.pop()\n",
    "s1"
   ]
  },
  {
   "cell_type": "code",
   "execution_count": null,
   "metadata": {},
   "outputs": [],
   "source": [
    "# difference between list.pop() and set.pop() function is list delete last value of a list \n",
    "# and set delete first value of a set\n",
    "s1 = [1, 2, 3, 4, 5, 6, 7, 8, 9, 10]\n",
    "s1.pop()\n",
    "s1"
   ]
  },
  {
   "cell_type": "code",
   "execution_count": null,
   "metadata": {},
   "outputs": [],
   "source": [
    "# Mathematical function of set: s1.remove() function delete value of a set, \n",
    "# if duplicate then first value will be removed from a set\n",
    "s1 = {1, 2, 3, 4, 5, 6, 7, 7, 8, 9, 10}\n",
    "s1.remove(7)\n",
    "s1"
   ]
  }
 ],
 "metadata": {
  "interpreter": {
   "hash": "c819db0b61094783b121348d134d41c4e0450ebc7e72307b330662436e6d9290"
  },
  "kernelspec": {
   "display_name": "Python 3.9.6 64-bit",
   "name": "python3"
  },
  "language_info": {
   "codemirror_mode": {
    "name": "ipython",
    "version": 3
   },
   "file_extension": ".py",
   "mimetype": "text/x-python",
   "name": "python",
   "nbconvert_exporter": "python",
   "pygments_lexer": "ipython3",
   "version": "3.9.6"
  },
  "orig_nbformat": 4
 },
 "nbformat": 4,
 "nbformat_minor": 2
}
