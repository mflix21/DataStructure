{
 "cells": [
  {
   "cell_type": "markdown",
   "source": [
    "set starts: this is another kinds of data structure\r\n",
    "01. set always use second braces or carly braces for defining\r\n",
    "02. set pop the value from the first\r\n",
    "03. it will never return duplicate values"
   ],
   "metadata": {}
  },
  {
   "cell_type": "code",
   "execution_count": null,
   "source": [
    "# set example:\r\n",
    "# basic structure of set\r\n",
    "s1 = {1, 2, 3, 4, 4, 4, 5, 6, 7, 8, 9}\r\n",
    "s1"
   ],
   "outputs": [],
   "metadata": {}
  },
  {
   "cell_type": "code",
   "execution_count": null,
   "source": [
    "# set example:\r\n",
    "# set will never allow duplicates value\r\n",
    "s1 = {1, 2, 3, 4, 4, 4, 5, 6, 7, 8, 9}\r\n",
    "s1"
   ],
   "outputs": [],
   "metadata": {}
  },
  {
   "cell_type": "code",
   "execution_count": null,
   "source": [
    "# set example:\r\n",
    "# usage of len function: it always avoid duplicates values for finding length of this set\r\n",
    "s1 = {1, 2, 3, 4, 4, 4, 5, 6, 7, 8, 9}\r\n",
    "len(s1)"
   ],
   "outputs": [],
   "metadata": {}
  },
  {
   "cell_type": "code",
   "execution_count": null,
   "source": [
    "# set example: access set\r\n",
    "s1 = {1, 2, 3, 4, 4, 4, 5, 6, 7, 8, 9}\r\n",
    "# s1[4] we can not access set in this way"
   ],
   "outputs": [],
   "metadata": {}
  },
  {
   "cell_type": "markdown",
   "source": [
    "# function of set data structure:\r\n",
    "01. add(value in the last)\r\n",
    "02. clear(all value)\r\n",
    "03. copy(copy set)\r\n",
    "04. update(value insertion like add function)\r\n",
    "05. union(excludes duplicate value)\r\n",
    "06. intersection(return common values)\r\n",
    "07. difference(prirotise first one and remove all duplicates value)\r\n",
    "08. difference_update(different function just first set would be the new value by this function)\r\n",
    "09. pop(delete first value)\r\n",
    "10. remove(value will be deleted. if duplicates, first one will be deleted)"
   ],
   "metadata": {}
  },
  {
   "cell_type": "code",
   "execution_count": 3,
   "source": [
    "# function of set:\r\n",
    "# s1.add(10), here value 10 will be added at the end of this set\r\n",
    "s1 = {1, 2, 3, 4, 4, 4, 5, 6, 7, 8, 9}\r\n",
    "s1.add(10)\r\n",
    "s1"
   ],
   "outputs": [
    {
     "output_type": "execute_result",
     "data": {
      "text/plain": [
       "{1, 2, 3, 4, 5, 6, 7, 8, 9, 10}"
      ]
     },
     "metadata": {},
     "execution_count": 3
    }
   ],
   "metadata": {}
  },
  {
   "cell_type": "code",
   "execution_count": 4,
   "source": [
    "# function of set:\r\n",
    "# s1.clear() here this clear function will clear the set\r\n",
    "s1 = {1, 2, 3, 4, 4, 4, 5, 6, 7, 8, 9}\r\n",
    "s1.clear()\r\n",
    "s1"
   ],
   "outputs": [
    {
     "output_type": "execute_result",
     "data": {
      "text/plain": [
       "set()"
      ]
     },
     "metadata": {},
     "execution_count": 4
    }
   ],
   "metadata": {}
  },
  {
   "cell_type": "code",
   "execution_count": 5,
   "source": [
    "# function of set:\r\n",
    "# s1.copy(), here this function will copy the s1 set\r\n",
    "s1 = {1, 2, 3, 4, 4, 4, 5, 6, 7, 8, 9}\r\n",
    "s2 = s1.copy()\r\n",
    "s2"
   ],
   "outputs": [
    {
     "output_type": "execute_result",
     "data": {
      "text/plain": [
       "{1, 2, 3, 4, 5, 6, 7, 8, 9}"
      ]
     },
     "metadata": {},
     "execution_count": 5
    }
   ],
   "metadata": {}
  },
  {
   "cell_type": "code",
   "execution_count": 6,
   "source": [
    "# function of set:\r\n",
    "# s1.update((10, 11)), this function will add values in the end\r\n",
    "s1 = {1, 2, 3, 4, 4, 4, 5, 6, 7, 8, 9}\r\n",
    "s1.update((10, 11))\r\n",
    "s1"
   ],
   "outputs": [
    {
     "output_type": "execute_result",
     "data": {
      "text/plain": [
       "{1, 2, 3, 4, 5, 6, 7, 8, 9, 10, 11}"
      ]
     },
     "metadata": {},
     "execution_count": 6
    }
   ],
   "metadata": {}
  },
  {
   "cell_type": "code",
   "execution_count": 7,
   "source": [
    "# Mathematical function of set: union() function always return unique value, \r\n",
    "# it excludes duplicate values\r\n",
    "s1 = {1, 2, 3, 4, 5, 6, 7, 8, 9, 10}\r\n",
    "s2 = {6, 7, 8, 9, 10, 11, 12, 13}\r\n",
    "s1.union(s2)"
   ],
   "outputs": [
    {
     "output_type": "execute_result",
     "data": {
      "text/plain": [
       "{1, 2, 3, 4, 5, 6, 7, 8, 9, 10, 11, 12, 13}"
      ]
     },
     "metadata": {},
     "execution_count": 7
    }
   ],
   "metadata": {}
  },
  {
   "cell_type": "code",
   "execution_count": 8,
   "source": [
    "# Mathematical function of set: s1.intersection() function always return common values\r\n",
    "s1 = {1, 2, 3, 4, 5, 6, 7, 8, 9, 10}\r\n",
    "s2 = {6, 7, 8, 9, 10, 11, 12, 13}\r\n",
    "s1.intersection(s2)"
   ],
   "outputs": [
    {
     "output_type": "execute_result",
     "data": {
      "text/plain": [
       "{6, 7, 8, 9, 10}"
      ]
     },
     "metadata": {},
     "execution_count": 8
    }
   ],
   "metadata": {}
  },
  {
   "cell_type": "code",
   "execution_count": 9,
   "source": [
    "# Mathematical function of set: s1.difference(s2) function deduct common values from s2 but priotise s1 value\r\n",
    "s1 = {1, 2, 3, 4, 5, 6, 7, 8, 9, 10}\r\n",
    "s2 = {6, 7, 8, 9, 10, 11, 12, 13}\r\n",
    "s1.difference(s2)"
   ],
   "outputs": [
    {
     "output_type": "execute_result",
     "data": {
      "text/plain": [
       "{1, 2, 3, 4, 5}"
      ]
     },
     "metadata": {},
     "execution_count": 9
    }
   ],
   "metadata": {}
  },
  {
   "cell_type": "code",
   "execution_count": 10,
   "source": [
    "# Mathematical function of set: s1.difference_update(s2) function deduct common values from s2 \r\n",
    "# but priotise s1 value and differenced s1 value will be new value of s1\r\n",
    "s1 = {1, 2, 3, 4, 5, 6, 7, 8, 9, 10}\r\n",
    "s2 = {6, 7, 8, 9, 10, 11, 12, 13}\r\n",
    "s1.difference_update(s2)\r\n",
    "s1"
   ],
   "outputs": [
    {
     "output_type": "execute_result",
     "data": {
      "text/plain": [
       "{1, 2, 3, 4, 5}"
      ]
     },
     "metadata": {},
     "execution_count": 10
    }
   ],
   "metadata": {}
  },
  {
   "cell_type": "code",
   "execution_count": 11,
   "source": [
    "# Mathematical function of set: s1.pop() function delete first value of a set\r\n",
    "s1 = {1, 2, 3, 4, 5, 6, 7, 8, 9, 10}\r\n",
    "s1.pop()\r\n",
    "s1"
   ],
   "outputs": [
    {
     "output_type": "execute_result",
     "data": {
      "text/plain": [
       "{2, 3, 4, 5, 6, 7, 8, 9, 10}"
      ]
     },
     "metadata": {},
     "execution_count": 11
    }
   ],
   "metadata": {}
  },
  {
   "cell_type": "code",
   "execution_count": 12,
   "source": [
    "# difference between list.pop() and set.pop() function is list delete last value of a list \r\n",
    "# and set delete first value of a set\r\n",
    "s1 = [1, 2, 3, 4, 5, 6, 7, 8, 9, 10]\r\n",
    "s1.pop()\r\n",
    "s1"
   ],
   "outputs": [
    {
     "output_type": "execute_result",
     "data": {
      "text/plain": [
       "[1, 2, 3, 4, 5, 6, 7, 8, 9]"
      ]
     },
     "metadata": {},
     "execution_count": 12
    }
   ],
   "metadata": {}
  },
  {
   "cell_type": "code",
   "execution_count": 19,
   "source": [
    "# Mathematical function of set: s1.remove() function delete value of a set, \r\n",
    "# if duplicate then first value will be removed from a set\r\n",
    "s1 = {1, 2, 3, 4, 5, 6, 7, 7, 8, 9, 10}\r\n",
    "s1.remove(7)\r\n",
    "s1"
   ],
   "outputs": [
    {
     "output_type": "execute_result",
     "data": {
      "text/plain": [
       "{1, 2, 3, 4, 5, 6, 8, 9, 10}"
      ]
     },
     "metadata": {},
     "execution_count": 19
    }
   ],
   "metadata": {}
  }
 ],
 "metadata": {
  "orig_nbformat": 4,
  "language_info": {
   "name": "python",
   "version": "3.9.6",
   "mimetype": "text/x-python",
   "codemirror_mode": {
    "name": "ipython",
    "version": 3
   },
   "pygments_lexer": "ipython3",
   "nbconvert_exporter": "python",
   "file_extension": ".py"
  },
  "kernelspec": {
   "name": "python3",
   "display_name": "Python 3.9.6 64-bit"
  },
  "interpreter": {
   "hash": "c819db0b61094783b121348d134d41c4e0450ebc7e72307b330662436e6d9290"
  }
 },
 "nbformat": 4,
 "nbformat_minor": 2
}